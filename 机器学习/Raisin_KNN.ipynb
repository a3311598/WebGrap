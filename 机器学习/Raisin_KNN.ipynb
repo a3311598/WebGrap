{
 "cells": [
  {
   "cell_type": "markdown",
   "metadata": {
    "pycharm": {
     "name": "#%% md\n"
    }
   },
   "source": [
    "* 导入机器学习算法相关工具包"
   ]
  },
  {
   "cell_type": "code",
   "execution_count": 1,
   "metadata": {
    "pycharm": {
     "name": "#%%\n"
    }
   },
   "outputs": [],
   "source": [
    "import pandas as pd\n",
    "import numpy as np\n",
    "import matplotlib.pyplot as plt\n",
    "from sklearn.neighbors import KNeighborsClassifier,RadiusNeighborsClassifier\n",
    "from sklearn.model_selection import train_test_split\n",
    "from sklearn.model_selection import cross_val_score\n",
    "from sklearn.preprocessing import StandardScaler"
   ]
  },
  {
   "cell_type": "markdown",
   "metadata": {
    "pycharm": {
     "name": "#%% md\n"
    }
   },
   "source": [
    "1. 加载数据"
   ]
  },
  {
   "cell_type": "code",
   "execution_count": null,
   "metadata": {
    "pycharm": {
     "name": "#%%\n"
    }
   },
   "outputs": [],
   "source": [
    "data_Raisin = pd.read_csv('Raisin_Dataset.csv')\n",
    "data_Raisin.head()"
   ]
  },
  {
   "cell_type": "code",
   "execution_count": 3,
   "metadata": {
    "pycharm": {
     "name": "#%%\n"
    }
   },
   "outputs": [
    {
     "name": "stdout",
     "output_type": "stream",
     "text": [
      "X:\n",
      "       Area  MajorAxisLength  MinorAxisLength  Eccentricity  ConvexArea  \\\n",
      "0    87524       442.246011       253.291155      0.819738       90546   \n",
      "1    75166       406.690687       243.032436      0.801805       78789   \n",
      "2    90856       442.267048       266.328318      0.798354       93717   \n",
      "3    45928       286.540559       208.760042      0.684989       47336   \n",
      "4    79408       352.190770       290.827533      0.564011       81463   \n",
      "..     ...              ...              ...           ...         ...   \n",
      "895  83248       430.077308       247.838695      0.817263       85839   \n",
      "896  87350       440.735698       259.293149      0.808629       90899   \n",
      "897  99657       431.706981       298.837323      0.721684      106264   \n",
      "898  93523       476.344094       254.176054      0.845739       97653   \n",
      "899  85609       512.081774       215.271976      0.907345       89197   \n",
      "\n",
      "       Extent  Perimeter  \n",
      "0    0.758651   1184.040  \n",
      "1    0.684130   1121.786  \n",
      "2    0.637613   1208.575  \n",
      "3    0.699599    844.162  \n",
      "4    0.792772   1073.251  \n",
      "..        ...        ...  \n",
      "895  0.668793   1129.072  \n",
      "896  0.636476   1214.252  \n",
      "897  0.741099   1292.828  \n",
      "898  0.658798   1258.548  \n",
      "899  0.632020   1272.862  \n",
      "\n",
      "[900 rows x 7 columns]\n"
     ]
    }
   ],
   "source": [
    "# 特征集,包含前7列数据\n",
    "X = data_Raisin.iloc[:, 0: 7]\n",
    "print('X:\\n',X)"
   ]
  },
  {
   "cell_type": "code",
   "execution_count": 4,
   "metadata": {
    "pycharm": {
     "name": "#%%\n"
    }
   },
   "outputs": [
    {
     "name": "stdout",
     "output_type": "stream",
     "text": [
      "Y:\n",
      " 0      1\n",
      "1      1\n",
      "2      1\n",
      "3      1\n",
      "4      1\n",
      "      ..\n",
      "895    0\n",
      "896    0\n",
      "897    0\n",
      "898    0\n",
      "899    0\n",
      "Name: Class, Length: 900, dtype: int64\n"
     ]
    }
   ],
   "source": [
    "# 标签集,最后一列数据\n",
    "# 对Class进行编码\n",
    "data_Raisin = data_Raisin.replace({'Class':{'Kecimen':1, 'Besni':0}})\n",
    "Y = data_Raisin.iloc[:, 7]\n",
    "print('Y:\\n',Y)"
   ]
  },
  {
   "cell_type": "markdown",
   "metadata": {
    "pycharm": {
     "name": "#%% md\n"
    }
   },
   "source": [
    "2. 数据预处理"
   ]
  },
  {
   "cell_type": "code",
   "execution_count": 5,
   "metadata": {
    "pycharm": {
     "name": "#%%\n"
    }
   },
   "outputs": [],
   "source": [
    "# 标准化——（0-1标准化）\n",
    "scaler= StandardScaler()\n",
    "scaler.fit(data_Raisin.drop('Class', axis=1))\n",
    "sc_transform= scaler.transform(data_Raisin.drop('Class', axis=1))\n",
    "sc_df= pd.DataFrame(sc_transform)\n"
   ]
  },
  {
   "cell_type": "code",
   "execution_count": 6,
   "metadata": {
    "pycharm": {
     "name": "#%%\n"
    }
   },
   "outputs": [
    {
     "name": "stdout",
     "output_type": "stream",
     "text": [
      "823    0\n",
      "43     1\n",
      "890    0\n",
      "542    0\n",
      "507    0\n",
      "      ..\n",
      "358    1\n",
      "356    1\n",
      "812    0\n",
      "132    1\n",
      "885    0\n",
      "Name: Class, Length: 720, dtype: int64\n"
     ]
    }
   ],
   "source": [
    "# 拆分数据集\n",
    "# 按拆分比例8：2将数据集切分为训练集和测试集，使用sklearn中model_selection模块中的train_test_split方法。\n",
    "# test_size为测试集的比例，random_state为随机种子，这里可设置任意数字，保证下次运行同样可以选择出对应的训练集和测试集\n",
    "X= sc_transform\n",
    "X_train, X_test, Y_train, Y_test = train_test_split(X, Y, test_size=0.2, random_state=22)\n",
    "print(Y_train)"
   ]
  },
  {
   "cell_type": "markdown",
   "metadata": {
    "pycharm": {
     "name": "#%% md\n"
    }
   },
   "source": [
    "3. 算法应用 : K-最近邻 (KNN)"
   ]
  },
  {
   "cell_type": "code",
   "execution_count": 7,
   "metadata": {
    "pycharm": {
     "name": "#%%\n"
    }
   },
   "outputs": [
    {
     "name": "stdout",
     "output_type": "stream",
     "text": [
      "0.8388888888888889 0.8277777777777777\n"
     ]
    }
   ],
   "source": [
    "# 构建KNN模型(使用两种不同的KNN算法)\n",
    "\n",
    "# n_neighbors,整数,也就是k值\n",
    "knn1 = KNeighborsClassifier(n_neighbors=5)\n",
    "knn1.fit(X_train, Y_train)\n",
    "score1 = knn1.score(X_test, Y_test)\n",
    "\n",
    "# weights,默认为‘uniform’;这个参数可以针对不同的邻居指定不同的权重,也就是说,越近可以权重越高,默认是一样的权重;‘distance’可以设置不同权重\n",
    "knn2 = KNeighborsClassifier(n_neighbors=5, weights='distance')\n",
    "knn2.fit(X_train, Y_train)\n",
    "score2 = knn2.score(X_test, Y_test)\n",
    "\n",
    "print(score1, score2)"
   ]
  },
  {
   "cell_type": "code",
   "execution_count": 8,
   "metadata": {
    "pycharm": {
     "name": "#%%\n"
    }
   },
   "outputs": [
    {
     "name": "stdout",
     "output_type": "stream",
     "text": [
      "0.8533333333333333 0.8533333333333333\n"
     ]
    }
   ],
   "source": [
    "# 交叉验证, 选出最优的KNN算法\n",
    "result1 = cross_val_score(knn1, X, Y, cv=10)\n",
    "result2 = cross_val_score(knn2, X, Y, cv=10)\n",
    "\n",
    "print(result1.mean(), result2.mean())"
   ]
  },
  {
   "cell_type": "code",
   "execution_count": 9,
   "metadata": {
    "pycharm": {
     "name": "#%%\n"
    }
   },
   "outputs": [
    {
     "data": {
      "text/plain": [
       "KNeighborsClassifier()"
      ]
     },
     "execution_count": 9,
     "metadata": {},
     "output_type": "execute_result"
    }
   ],
   "source": [
    "# 训练模型\n",
    "knn1.fit(X_train, Y_train)"
   ]
  },
  {
   "cell_type": "code",
   "execution_count": 10,
   "metadata": {
    "pycharm": {
     "name": "#%%\n"
    }
   },
   "outputs": [],
   "source": [
    "# 评估模型\n",
    "score = knn1.score(X_test, Y_test)"
   ]
  },
  {
   "cell_type": "code",
   "execution_count": 11,
   "metadata": {
    "pycharm": {
     "name": "#%%\n"
    }
   },
   "outputs": [
    {
     "name": "stdout",
     "output_type": "stream",
     "text": [
      "0.8388888888888889\n"
     ]
    }
   ],
   "source": [
    "# 打印分数\n",
    "print(score)"
   ]
  },
  {
   "cell_type": "code",
   "execution_count": 12,
   "metadata": {
    "pycharm": {
     "name": "#%%\n"
    }
   },
   "outputs": [
    {
     "name": "stdout",
     "output_type": "stream",
     "text": [
      "1\n"
     ]
    }
   ],
   "source": [
    "# 使用测试集对模型进行预测\n",
    "y_predict = knn1.predict(X_test)\n",
    "print(y_predict[0])"
   ]
  },
  {
   "cell_type": "markdown",
   "metadata": {
    "pycharm": {
     "name": "#%% md\n"
    }
   },
   "source": [
    "4. 可视化分析"
   ]
  },
  {
   "cell_type": "code",
   "execution_count": 13,
   "metadata": {
    "pycharm": {
     "name": "#%%\n"
    }
   },
   "outputs": [
    {
     "name": "stdout",
     "output_type": "stream",
     "text": [
      "[[-0.67336668 -0.77732022 -0.46141765 ... -0.68729824  0.66049896\n",
      "  -0.76606471]\n",
      " [-0.429706   -0.57065146 -0.09536943 ... -0.44740113  0.53033508\n",
      "  -0.5069242 ]\n",
      " [ 0.79998774  0.4519252   1.21615226 ...  0.76543525  1.58985364\n",
      "   0.69620937]\n",
      " ...\n",
      " [-1.05702066 -1.32427201 -0.76491641 ... -1.04865324  1.16293424\n",
      "  -1.26383494]\n",
      " [ 2.06441685  1.94160723  1.48112658 ...  2.03933188 -0.33625958\n",
      "   1.89822091]\n",
      " [ 1.997845    1.58903086  1.8457174  ...  1.95765642  0.67958023\n",
      "   1.71733715]]\n"
     ]
    }
   ],
   "source": [
    "print(X_test)"
   ]
  },
  {
   "cell_type": "code",
   "execution_count": 14,
   "metadata": {
    "pycharm": {
     "name": "#%%\n"
    }
   },
   "outputs": [
    {
     "data": {
      "image/png": "[encoded data removed]",
      "text/plain": [
       "<Figure size 432x288 with 1 Axes>"
      ]
     },
     "metadata": {
      "needs_background": "light"
     },
     "output_type": "display_data"
    }
   ],
   "source": [
    "#target=0的点标红，target=1的点标绿,点的横坐标为X_train的第⼀列，点的纵坐标为X_train的第⼆列\n",
    "plt.rcParams['font.sans-serif'] = ['SimHei'] # 指定默认字体\n",
    "plt.rcParams['axes.unicode_minus'] = False # 解决保存图像是负号’-'显示为方块的问\n",
    "plt.scatter(X_train[Y_train==0,0],X_train[Y_train==0,1],color='red')\n",
    "plt.scatter(X_train[Y_train==1,0],X_train[Y_train==1,1],color='green')\n",
    "x=np.array([2.06441685,1.94160723]) #定义一个新的点，需要判断它到底属于哪一类数据类型\n",
    "plt.scatter(x[0],x[1],color=\"blue\") #在算点图上输出这个散点，看它在整体散点图的分布情况\n",
    "plt.title('红点标签为0,绿点标签为1，蓝点为待预测的点')\n",
    "plt.show()\n",
    "\n"
   ]
  },
  {
   "cell_type": "markdown",
   "metadata": {
    "pycharm": {
     "name": "#%% md\n"
    }
   },
   "source": []
  }
 ],
 "metadata": {
  "kernelspec": {
   "display_name": "Python 3 (ipykernel)",
   "language": "python",
   "name": "python3"
  },
  "language_info": {
   "codemirror_mode": {
    "name": "ipython",
    "version": 3
   },
   "file_extension": ".py",
   "mimetype": "text/x-python",
   "name": "python",
   "nbconvert_exporter": "python",
   "pygments_lexer": "ipython3",
   "version": "3.9.10"
  }
 },
 "nbformat": 4,
 "nbformat_minor": 1
}