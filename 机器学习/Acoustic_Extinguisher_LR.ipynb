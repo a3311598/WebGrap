{
 "cells": [
  {
   "cell_type": "markdown",
   "source": [
    "* 导入机器学习算法相关工具包"
   ],
   "metadata": {
    "collapsed": false,
    "pycharm": {
     "name": "#%% md\n"
    }
   }
  },
  {
   "cell_type": "code",
   "execution_count": 185,
   "metadata": {
    "collapsed": true,
    "pycharm": {
     "name": "#%%\n"
    }
   },
   "outputs": [],
   "source": [
    "import matplotlib.pyplot as plt\n",
    "import numpy as np\n",
    "import pandas as pd\n",
    "from sklearn.linear_model import LogisticRegression #导入逻辑回归模型\n",
    "from sklearn.preprocessing import StandardScaler"
   ]
  },
  {
   "cell_type": "markdown",
   "source": [
    "1. 加载数据"
   ],
   "metadata": {
    "collapsed": false,
    "pycharm": {
     "name": "#%% md\n"
    }
   }
  },
  {
   "cell_type": "code",
   "execution_count": 186,
   "outputs": [
    {
     "data": {
      "text/plain": "   SIZE      FUEL  DISTANCE  DESIBEL  AIRFLOW  FREQUENCY  STATUS\n0     1  gasoline        10       96      0.0         75       0\n1     1  gasoline        10       96      0.0         72       1\n2     1  gasoline        10       96      2.6         70       1\n3     1  gasoline        10       96      3.2         68       1\n4     1  gasoline        10      109      4.5         67       1",
      "text/html": "<div>\n<style scoped>\n    .dataframe tbody tr th:only-of-type {\n        vertical-align: middle;\n    }\n\n    .dataframe tbody tr th {\n        vertical-align: top;\n    }\n\n    .dataframe thead th {\n        text-align: right;\n    }\n</style>\n<table border=\"1\" class=\"dataframe\">\n  <thead>\n    <tr style=\"text-align: right;\">\n      <th></th>\n      <th>SIZE</th>\n      <th>FUEL</th>\n      <th>DISTANCE</th>\n      <th>DESIBEL</th>\n      <th>AIRFLOW</th>\n      <th>FREQUENCY</th>\n      <th>STATUS</th>\n    </tr>\n  </thead>\n  <tbody>\n    <tr>\n      <th>0</th>\n      <td>1</td>\n      <td>gasoline</td>\n      <td>10</td>\n      <td>96</td>\n      <td>0.0</td>\n      <td>75</td>\n      <td>0</td>\n    </tr>\n    <tr>\n      <th>1</th>\n      <td>1</td>\n      <td>gasoline</td>\n      <td>10</td>\n      <td>96</td>\n      <td>0.0</td>\n      <td>72</td>\n      <td>1</td>\n    </tr>\n    <tr>\n      <th>2</th>\n      <td>1</td>\n      <td>gasoline</td>\n      <td>10</td>\n      <td>96</td>\n      <td>2.6</td>\n      <td>70</td>\n      <td>1</td>\n    </tr>\n    <tr>\n      <th>3</th>\n      <td>1</td>\n      <td>gasoline</td>\n      <td>10</td>\n      <td>96</td>\n      <td>3.2</td>\n      <td>68</td>\n      <td>1</td>\n    </tr>\n    <tr>\n      <th>4</th>\n      <td>1</td>\n      <td>gasoline</td>\n      <td>10</td>\n      <td>109</td>\n      <td>4.5</td>\n      <td>67</td>\n      <td>1</td>\n    </tr>\n  </tbody>\n</table>\n</div>"
     },
     "execution_count": 186,
     "metadata": {},
     "output_type": "execute_result"
    }
   ],
   "source": [
    "data_AEF = pd.read_csv('Acoustic_Extinguisher_Fire_Dataset.csv')\n",
    "data_AEF.head()"
   ],
   "metadata": {
    "collapsed": false,
    "pycharm": {
     "name": "#%%\n"
    }
   }
  },
  {
   "cell_type": "markdown",
   "source": [
    "3. 数据预处理"
   ],
   "metadata": {
    "collapsed": false,
    "pycharm": {
     "name": "#%% md\n"
    }
   }
  },
  {
   "cell_type": "code",
   "execution_count": 187,
   "outputs": [
    {
     "name": "stdout",
     "output_type": "stream",
     "text": [
      "X:\n",
      "        SIZE  FUEL  DISTANCE  DESIBEL  AIRFLOW  FREQUENCY\n",
      "0         1   0.0        10       96      0.0         75\n",
      "1         1   0.0        10       96      0.0         72\n",
      "2         1   0.0        10       96      2.6         70\n",
      "3         1   0.0        10       96      3.2         68\n",
      "4         1   0.0        10      109      4.5         67\n",
      "...     ...   ...       ...      ...      ...        ...\n",
      "17437     7   3.0       190       86      2.2          5\n",
      "17438     7   3.0       190       84      2.0          4\n",
      "17439     7   3.0       190       80      1.5          3\n",
      "17440     7   3.0       190       76      0.4          2\n",
      "17441     7   3.0       190       72      0.0          1\n",
      "\n",
      "[17442 rows x 6 columns]\n"
     ]
    }
   ],
   "source": [
    "# 特征集,包含前6列数据\n",
    "# 对非数值型类型进行编码映射\n",
    "data_AEF[\"FUEL\"] = pd.factorize(data_AEF[\"FUEL\"])[0].astype(float)\n",
    "X = data_AEF.iloc[:,0:6]\n",
    "print('X:\\n',X)"
   ],
   "metadata": {
    "collapsed": false,
    "pycharm": {
     "name": "#%%\n"
    }
   }
  },
  {
   "cell_type": "code",
   "execution_count": 188,
   "outputs": [
    {
     "name": "stdout",
     "output_type": "stream",
     "text": [
      "Y:\n",
      " 0        0\n",
      "1        1\n",
      "2        1\n",
      "3        1\n",
      "4        1\n",
      "        ..\n",
      "17437    0\n",
      "17438    0\n",
      "17439    0\n",
      "17440    0\n",
      "17441    0\n",
      "Name: STATUS, Length: 17442, dtype: int64\n"
     ]
    }
   ],
   "source": [
    "# 标签集,最后一列数据\n",
    "Y = data_AEF.iloc[:, 6]\n",
    "print('Y:\\n',Y)"
   ],
   "metadata": {
    "collapsed": false,
    "pycharm": {
     "name": "#%%\n"
    }
   }
  },
  {
   "cell_type": "code",
   "execution_count": 189,
   "outputs": [],
   "source": [
    "# 标准化——（0-1标准化）\n",
    "scaler= StandardScaler()\n",
    "scaler.fit(data_AEF.drop('STATUS', axis=1))\n",
    "sc_transform= scaler.transform(data_AEF.drop('STATUS', axis=1))\n",
    "sc_df= pd.DataFrame(sc_transform)\n",
    "X = sc_transform\n",
    "X_train = X[:,0:2]"
   ],
   "metadata": {
    "collapsed": false,
    "pycharm": {
     "name": "#%%\n"
    }
   }
  },
  {
   "cell_type": "markdown",
   "source": [
    "4. 算法应用 : 逻辑回归 (LR)"
   ],
   "metadata": {
    "collapsed": false,
    "pycharm": {
     "name": "#%% md\n"
    }
   }
  },
  {
   "cell_type": "code",
   "execution_count": 190,
   "outputs": [],
   "source": [
    "# 构建逻辑回归模型 (Logistic Regression)\n",
    "LR = LogisticRegression()"
   ],
   "metadata": {
    "collapsed": false,
    "pycharm": {
     "name": "#%%\n"
    }
   }
  },
  {
   "cell_type": "code",
   "execution_count": 191,
   "outputs": [
    {
     "data": {
      "text/plain": "LogisticRegression()"
     },
     "execution_count": 191,
     "metadata": {},
     "output_type": "execute_result"
    }
   ],
   "source": [
    "# 训练模型\n",
    "LR.fit(X_train,Y)"
   ],
   "metadata": {
    "collapsed": false,
    "pycharm": {
     "name": "#%%\n"
    }
   }
  },
  {
   "cell_type": "markdown",
   "source": [
    "5. 可视化分析"
   ],
   "metadata": {
    "collapsed": false,
    "pycharm": {
     "name": "#%% md\n"
    }
   }
  },
  {
   "cell_type": "code",
   "execution_count": 192,
   "outputs": [
    {
     "name": "stdout",
     "output_type": "stream",
     "text": [
      "[[-1.37742194 -1.23316246]\n",
      " [-1.37742194 -1.23316246]\n",
      " [-1.37742194 -1.23316246]\n",
      " ...\n",
      " [ 2.04933508  1.76166066]\n",
      " [ 2.04933508  1.76166066]\n",
      " [ 2.04933508  1.76166066]]\n"
     ]
    }
   ],
   "source": [
    "print(X_train)"
   ],
   "metadata": {
    "collapsed": false,
    "pycharm": {
     "name": "#%%\n"
    }
   }
  },
  {
   "cell_type": "code",
   "execution_count": 193,
   "outputs": [],
   "source": [
    "#meshgrid函数⽣成两个⽹格矩阵\n",
    "h = .02\n",
    "# x_min, x_max = data_AEF.iloc[:, 0].min() - .5, data_AEF.iloc[:, 0].max() + .5\n",
    "x_min, x_max = X[:, 0].min() - 1.5, X[:, 0].max() + 1.5\n",
    "y_min, y_max = X[:, 1].min() - 1.5, X[:, 1].max() + 1.5\n",
    "# y_min, y_max = data_AEF.iloc[:, 1].min() - .5, data_AEF.iloc[:, 1].max() + .5\n",
    "xx, yy = np.meshgrid(np.arange(x_min, x_max, h), np.arange(y_min, y_max, h))\n",
    "# 调用ravel()函数将xx和yy的两个矩阵转变成一维数组,np.c_[]将数组拼接在一起\n",
    "Z = LR.predict(np.c_[xx.ravel(), yy.ravel()])"
   ],
   "metadata": {
    "collapsed": false,
    "pycharm": {
     "name": "#%%\n"
    }
   }
  },
  {
   "cell_type": "code",
   "execution_count": 194,
   "outputs": [
    {
     "data": {
      "text/plain": "<matplotlib.legend.Legend at 0x1b7208a8700>"
     },
     "execution_count": 194,
     "metadata": {},
     "output_type": "execute_result"
    },
    {
     "data": {
      "text/plain": "<Figure size 576x432 with 1 Axes>",
      "image/png": "[encoded data removed]"
     },
     "metadata": {},
     "output_type": "display_data"
    }
   ],
   "source": [
    "#pcolormesh函数将xx,yy两个⽹格矩阵和对应的预测结果Z绘制在图⽚上\n",
    "\n",
    "plt.rcParams['font.family']=['simhei']\n",
    "Z = Z.reshape(xx.shape)\n",
    "plt.figure(1, figsize=(8,6))\n",
    "plt.pcolormesh(xx, yy, Z, cmap=plt.cm.Paired)\n",
    "\n",
    "#绘制散点图\n",
    "ex_data_0 = data_AEF[data_AEF[\"STATUS\"]==0].values\n",
    "ex_data_1 = data_AEF[data_AEF[\"STATUS\"]==1].values\n",
    "plt.scatter(ex_data_0[:,0],ex_data_0[:,1],marker='x', c='red', label='s1')\n",
    "plt.scatter(ex_data_1[:,0],ex_data_1[:,1],marker='o', c='green', label='s2')\n",
    "\n",
    "plt.title(\"Logistic Regression\")\n",
    "plt.xlabel(\"Petal.Length\")\n",
    "plt.ylabel(\"Petal.Width\")\n",
    "plt.xlim(xx.min(), xx.max())\n",
    "plt.ylim(yy.min(), yy.max())\n",
    "plt.xticks(())\n",
    "plt.yticks(())\n",
    "plt.legend(loc=2)\n",
    "# plt.show\n",
    "\n",
    "\n"
   ],
   "metadata": {
    "collapsed": false,
    "pycharm": {
     "name": "#%%\n"
    }
   }
  },
  {
   "cell_type": "markdown",
   "source": [],
   "metadata": {
    "collapsed": false,
    "pycharm": {
     "name": "#%% md\n"
    }
   }
  }
 ],
 "metadata": {
  "kernelspec": {
   "display_name": "Python 3",
   "language": "python",
   "name": "python3"
  },
  "language_info": {
   "codemirror_mode": {
    "name": "ipython",
    "version": 2
   },
   "file_extension": ".py",
   "mimetype": "text/x-python",
   "name": "python",
   "nbconvert_exporter": "python",
   "pygments_lexer": "ipython2",
   "version": "2.7.6"
  }
 },
 "nbformat": 4,
 "nbformat_minor": 0
}