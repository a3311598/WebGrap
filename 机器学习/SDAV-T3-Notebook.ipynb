{
 "cells": [
  {
   "cell_type": "markdown",
   "metadata": {
    "pycharm": {
     "name": "#%% md\n"
    }
   },
   "source": [
    "<img src=\"https://www.cems.uwe.ac.uk/~pa-legg/uwecyber/images/uwe.png\" width=300>\n",
    "<img src=\"https://www.cems.uwe.ac.uk/~pa-legg/uwecyber/images/uwecyber_acecse_200.jpg\" width=300>\n",
    "\n",
    "# UFCFEL-15-3 Security Data Analytics and Visualisation\n",
    "# Portfolio Task 3: Insider Threat Detection (2021)\n",
    "---\n",
    "\n",
    "The completion of this worksheet is worth **40%** towards your portfolio for the UFCFEL-15-3 Security Data Analytics and Visualisation (SDAV) module.\n",
    "\n",
    "### Task\n",
    "---\n",
    "\n",
    "In this task, you have been asked to investigate a potential security threat within an organisation. Building on your previous worksheet expertise, you will need to apply your skills and knowledge of data analytics and visualisation to examine and explore the datasets methodically to uncover which employee is acting as a threat and why. The company have provided you with activity logs for various user interactions for the past 6 months, resulting in a lot of data that they need your expertise for to decipher. They want to have a report that details the investigation that you have carried out, details of the suspected individual, and a clear rationale as to why this suspect is flagged. You will need to document your investigation, giving clear justification for your process using Markdown annotation within your notebook. You will need to provide a clear rationale for why you suspect a given individual to be acting as a threat, based on the pattern of activity that you identify.\n",
    "\n",
    "<i>This coursework is specifically designed to challenge your critical thinking and creativity, and is designed as an open problem. Examine the data and try to think how an individual user may appear as an anomaly against the remainder of the data. This could be an anomaly compared to a group of users, or an anomaly as compared over time.</i>\n",
    "\n",
    "\n",
    "### Assessment and Marking\n",
    "---\n",
    "\n",
    "| Criteria | 0-39 | 40-49 | 50-59 | 60-69 | 70-84 | 85-100 |\n",
    "| --- | --- | --- | --- | --- | --- | --- |\n",
    "| **Identification of the suspicious activity (30%)** | No evidence of progress | A limited attempt to address this criteria | A working solution but perhaps not optimal | Good approach to the problem | Very good approach to the problem | Excellent approach to the problem |\n",
    "| **Analytical process and reasoning (30%)**  | No evidence of progress | A limited attempt to address this criteria |  A working solution but perhaps not optimal | Good approach to the problem | Very good approach to the problem | Excellent approach to the problem |\n",
    "| **Visualisation techniques (20%)**  | No evidence of progress | A limited attempt to address this criteria |  A working solution but perhaps not optimal | Good approach to the problem | Very good approach to the problem | Excellent approach to the problem |\n",
    "| **Clarity and professional presentation (20%)**  | No evidence of progress | A limited attempt to address this criteria | Some evidence of markdown commentary | Good approach to the problem | Very good approach to the problem | Excellent approach to the problem |\n",
    "\n",
    "To achieve the higher end of the grade scale, you need to demonstrate creativity in how you approach the problem of identifying malicious behaviours, and ensure that you have accounted for multiple anomalies across the set of data available.\n",
    "\n",
    "You will need to implement your final solution in the Notebook format, with Markdown annotation -  you should use this notebook file as a template for your submission. You are also expected to complete the assignment self-assessment.\n",
    "\n",
    "Your submission should include:\n",
    "- HTML export of your complete assignment in notebook format.\n",
    "- Original ipynb source file of your notebook.\n",
    "\n",
    "### Self-Assessment\n",
    "---\n",
    "\n",
    "For each criteria, please reflect on the marking rubric and indicate what grade you would expect to receive for the work that you are submitting. For your own personal development and learning, it is important to reflect on your work and to attempt to assess this careful. Do think carefully about both positive aspects of your work, as well as any limitations you may have faced.\n",
    "\n",
    "- **Identification of the suspicious activity (30%)**: You estimate that your grade will be 70.\n",
    "\n",
    "- **Analytical process and reasoning (30%)**: You estimate that your grade will be 70.\n",
    "\n",
    "- **Visualisation techniques (20%)**: You estimate that your grade will be 70.\n",
    "\n",
    "- **Clarity and professional presentation (20%)**: You estimate that your grade will be 70.\n",
    "\n",
    "Please provide a minimum of two sentences to comment and reflect on your own self-assessment: I learned more about how to use visual charts to analyze data.I have a deeper understanding of data analysis.\n",
    "\n",
    "\n",
    "### Contact\n",
    "---\n",
    "\n",
    "Questions about this assignment should be directed to your module leader (Phil.Legg@uwe.ac.uk). You can use the Blackboard Q&A feature to ask questions related to this module and this assignment, as well as the on-site teaching sessions.\n",
    "\n",
    "---\n"
   ]
  },
  {
   "cell_type": "markdown",
   "metadata": {
    "pycharm": {
     "name": "#%% md\n"
    }
   },
   "source": [
    "## Load in the data\n",
    "\n",
    "Please provide the string below that you have been assigned as given in the spreadsheet available on Blackboard. Please also ensure you have saved your dataset folder in the following directory relative to your notebook: **\"./T3_data/\"**"
   ]
  },
  {
   "cell_type": "code",
   "execution_count": 1,
   "metadata": {
    "pycharm": {
     "name": "#%%\n"
    }
   },
   "outputs": [],
   "source": [
    "# POSSIBLE DATASETS FOR 2021-22 MODULE RUN\n",
    "dataset_list = ['lockdown-lockups', 'onlinebargains', 'trackntrace', 'zoooom']\n",
    "\n",
    "# PLEASE ENTER THE NAME OF THE DATASET ASSIGNED TO YOU AS INDICATED ON BLACKBOARD\n",
    "DATASET = 'onlinebargains'"
   ]
  },
  {
   "cell_type": "markdown",
   "metadata": {
    "pycharm": {
     "name": "#%% md\n"
    }
   },
   "source": [
    "### Function for loading data - do not change"
   ]
  },
  {
   "cell_type": "code",
   "execution_count": null,
   "outputs": [],
   "source": [
    "import random\n",
    "import string\n",
    "import pandas as pd\n",
    "import matplotlib.pyplot as plt\n",
    "import seaborn as sns\n",
    "import datetime\n",
    "\n",
    "def load_data(DATASET):\n",
    "\n",
    "    if DATASET in dataset_list:\n",
    "        email_data = pd.read_csv('./T3_data/' + DATASET + '/email_data.csv', parse_dates=True, index_col=0)\n",
    "        file_data = pd.read_csv('./T3_data/' + DATASET + '/file_data.csv', parse_dates=True, index_col=0)\n",
    "        web_data = pd.read_csv('./T3_data/' + DATASET + '/web_data.csv', parse_dates=True, index_col=0)\n",
    "        login_data = pd.read_csv('./T3_data/' + DATASET + '/login_data.csv', parse_dates=True, index_col=0)\n",
    "        usb_data = pd.read_csv('./T3_data/' + DATASET + '/usb_data.csv', parse_dates=True, index_col=0)\n",
    "        employee_data = pd.read_csv('./T3_data/' + DATASET + '/employee_data.csv', index_col=0)\n",
    "        \n",
    "        email_data['datetime'] = pd.to_datetime(email_data['datetime'])\n",
    "        file_data['datetime'] = pd.to_datetime(file_data['datetime'])\n",
    "        web_data['datetime'] = pd.to_datetime(web_data['datetime'])\n",
    "        login_data['datetime'] = pd.to_datetime(login_data['datetime'])\n",
    "        usb_data['datetime'] = pd.to_datetime(usb_data['datetime'])\n",
    "        print(len(email_data),len(file_data),len(web_data),len(login_data),len(usb_data))\n",
    "    else:\n",
    "        print (\"DATASET variable not defined - please refer to Blackboard for DATASET name\")\n",
    "        return\n",
    "    return employee_data, login_data, usb_data, web_data, file_data, email_data\n",
    "\n",
    "employee_data, login_data, usb_data, web_data, file_data, email_data = load_data(DATASET)\n",
    "# employee_data"
   ],
   "metadata": {
    "collapsed": false,
    "pycharm": {
     "name": "#%%\n"
    }
   }
  },
  {
   "cell_type": "markdown",
   "source": [
    "## Start your Investigation"
   ],
   "metadata": {
    "collapsed": false,
    "pycharm": {
     "name": "#%% md\n"
    }
   }
  },
  {
   "cell_type": "code",
   "execution_count": null,
   "outputs": [],
   "source": [
    "### The following code samples may be useful to aid your investigation"
   ],
   "metadata": {
    "collapsed": false,
    "pycharm": {
     "name": "#%%\n"
    }
   }
  },
  {
   "cell_type": "code",
   "execution_count": null,
   "outputs": [],
   "source": [
    "### Create a hirarchy dictionary that specifies, all users within each role / all user e-mails within each role\n",
    "user_set = {}\n",
    "user_set_emails = {}\n",
    "all_roles = employee_data['role'].unique()\n",
    "for role in all_roles:\n",
    "    user_set[role] = list(employee_data[employee_data['role'] == role]['user'].values)\n",
    "    user_set_emails[role] = list(employee_data[employee_data['role'] == role]['email'].values)\n",
    "# user_set_emails"
   ],
   "metadata": {
    "collapsed": false,
    "pycharm": {
     "name": "#%%\n"
    }
   }
  },
  {
   "cell_type": "code",
   "execution_count": null,
   "outputs": [],
   "source": [
    "### Filter the data by all users that are in a given role\n",
    "file_data[ file_data['user'].isin(user_set[role]) ]"
   ],
   "metadata": {
    "collapsed": false,
    "pycharm": {
     "name": "#%%\n"
    }
   }
  },
  {
   "cell_type": "code",
   "execution_count": null,
   "outputs": [],
   "source": [
    "### Get the day of the year for a given datetime column\n",
    "# email_data['datetime'].dt.dayofyear"
   ],
   "metadata": {
    "collapsed": false,
    "pycharm": {
     "name": "#%%\n"
    }
   }
  },
  {
   "cell_type": "code",
   "execution_count": null,
   "outputs": [],
   "source": [
    "### Number of unique users in the dataset - this should be 249\n",
    "# len(employee_data['user'].unique())"
   ],
   "metadata": {
    "collapsed": false,
    "pycharm": {
     "name": "#%%\n"
    }
   }
  },
  {
   "cell_type": "markdown",
   "source": [
    "The above code will load in the dataset, and it will reveal details about users based on the role that they are linked to. It will show you how you can filter the data based on those in a particular role, and it will show how you can obtain the day of the year that a data entry refers to.\n",
    "\n",
    "Now it is over to you..."
   ],
   "metadata": {
    "collapsed": false,
    "pycharm": {
     "name": "#%% md\n"
    }
   }
  },
  {
   "cell_type": "markdown",
   "source": [
    "# Analysis of the number of web pages visited by users"
   ],
   "metadata": {
    "collapsed": false,
    "pycharm": {
     "name": "#%% md\n"
    }
   }
  },
  {
   "cell_type": "code",
   "execution_count": null,
   "outputs": [],
   "source": [
    "import numpy as np\n",
    "# sns_plot = sns.countplot(x=\"user\",data=web_data)\n",
    "# sns_plot.figure.set_size_inches(18,10)\n"
   ],
   "metadata": {
    "collapsed": false,
    "pycharm": {
     "name": "#%%\n"
    }
   }
  },
  {
   "cell_type": "code",
   "execution_count": null,
   "outputs": [],
   "source": [
    "def get_maxRequestByUser():\n",
    "    browser_user = web_data.groupby('user').agg({'website':np.count_nonzero})>20000\n",
    "    user_target = browser_user[browser_user[\"website\"]]\n",
    "    df = user_target.reset_index()\n",
    "    user_set = set(df[\"user\"])\n",
    "    return user_set\n",
    "user_set_b = get_maxRequestByUser()\n"
   ],
   "metadata": {
    "collapsed": false,
    "pycharm": {
     "name": "#%%\n"
    }
   }
  },
  {
   "cell_type": "markdown",
   "source": [
    "# Website browsing analysis"
   ],
   "metadata": {
    "collapsed": false,
    "pycharm": {
     "name": "#%% md\n"
    }
   }
  },
  {
   "cell_type": "code",
   "execution_count": null,
   "outputs": [],
   "source": [
    "# sns.lineplot(x=\"user\",y= 'website',data=web_data);"
   ],
   "metadata": {
    "collapsed": false,
    "pycharm": {
     "name": "#%%\n"
    }
   }
  },
  {
   "cell_type": "code",
   "execution_count": null,
   "outputs": [],
   "source": [
    "web_data['datetime'] = web_data['datetime'].apply(lambda x:x.strftime('%Y-%m-%d'))"
   ],
   "metadata": {
    "collapsed": false,
    "pycharm": {
     "name": "#%%\n"
    }
   }
  },
  {
   "cell_type": "code",
   "execution_count": null,
   "outputs": [],
   "source": [
    "# sns_plot = sns.countplot(x=\"datetime\",data=web_data)\n",
    "# sns_plot.figure.set_size_inches(18,10)"
   ],
   "metadata": {
    "collapsed": false,
    "pycharm": {
     "name": "#%%\n"
    }
   }
  },
  {
   "cell_type": "markdown",
   "source": [
    "# User file operation frequency analysis"
   ],
   "metadata": {
    "collapsed": false,
    "pycharm": {
     "name": "#%% md\n"
    }
   }
  },
  {
   "cell_type": "code",
   "execution_count": null,
   "outputs": [],
   "source": [
    "file_data['datetime'] = file_data['datetime'].apply(lambda x:x.strftime('%Y-%m-%d'))"
   ],
   "metadata": {
    "collapsed": false,
    "pycharm": {
     "name": "#%%\n"
    }
   }
  },
  {
   "cell_type": "code",
   "execution_count": null,
   "outputs": [],
   "source": [
    "file_user = file_data.groupby('user').agg({'filename':np.count_nonzero})>=31225\n",
    "user_target = file_user[file_user[\"filename\"]]\n",
    "df = user_target.reset_index()\n",
    "user_set_c = set(df[\"user\"])\n",
    "# user_set_c"
   ],
   "metadata": {
    "collapsed": false,
    "pycharm": {
     "name": "#%%\n"
    }
   }
  },
  {
   "cell_type": "code",
   "execution_count": null,
   "outputs": [],
   "source": [
    "\n",
    "user_set_intersect = user_set_b.intersection(user_set_c)\n",
    "\n",
    "# user_set_intersect"
   ],
   "metadata": {
    "collapsed": false,
    "pycharm": {
     "name": "#%%\n"
    }
   }
  },
  {
   "cell_type": "code",
   "execution_count": null,
   "outputs": [],
   "source": [
    "user_role_rel = []\n",
    "for item in user_set:\n",
    "    for j in user_set_intersect:\n",
    "        if j in user_set[item]:\n",
    "            user_role_rel.append({item, j})\n",
    "user_role_rel;\n"
   ],
   "metadata": {
    "collapsed": false,
    "pycharm": {
     "name": "#%%\n"
    }
   }
  },
  {
   "cell_type": "markdown",
   "metadata": {
    "pycharm": {
     "name": "#%% md\n"
    }
   },
   "source": [
    "## Result as flow\n",
    "# Technical According to the analysis list, these employees are all technical departments and non security departments, but they often visit network attack websites http://www.wireshark.com Therefore, these employees may pose internal threats"
   ]
  }
 ],
 "metadata": {
  "kernelspec": {
   "display_name": "Python 3 (ipykernel)",
   "language": "python",
   "name": "python3"
  },
  "language_info": {
   "codemirror_mode": {
    "name": "ipython",
    "version": 3
   },
   "file_extension": ".py",
   "mimetype": "text/x-python",
   "name": "python",
   "nbconvert_exporter": "python",
   "pygments_lexer": "ipython3",
   "version": "3.9.10"
  },
  "widgets": {
   "state": {},
   "version": "1.1.2"
  }
 },
 "nbformat": 4,
 "nbformat_minor": 4
}