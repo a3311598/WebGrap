{
 "cells": [
  {
   "cell_type": "markdown",
   "metadata": {
    "pycharm": {
     "name": "#%% md\n"
    }
   },
   "source": [
    "<img src=\"https://www.cems.uwe.ac.uk/~pa-legg/uwecyber/images/uwe.png\" width=300>\n",
    "<img src=\"https://www.cems.uwe.ac.uk/~pa-legg/uwecyber/images/uwecyber_acecse_200.jpg\" width=300>\n",
    "\n",
    "# UFCFEL-15-3 Security Data Analytics and Visualisation\n",
    "# Portfolio Task 1: Network Traffic Analysis (2021)\n",
    "---\n",
    "\n",
    "The completion of this worksheet is worth **10%** towards your portfolio assignment for the UFCFEL-15-3 Security Data Analytics and Visualisation (SDAV) module.\n",
    "\n",
    "### Task\n",
    "---\n",
    "\n",
    "You have been asked to examine a sample of network traffic to investigate suspicious activity on some of the company workstations. The company directors need to be able to understand this data. \n",
    "\n",
    "Your task is to produce a series of different visual representations to describe and understand the characteristics of the data. As a bare minimum, you should show at least 1 line chart, 1 bar chart, and 1 scatter plot. For each chart, you need to decide what data is useful for the chart representation, and how you can manipulate the raw data appropriately for this. You should then also provide a brief caption for each chart that describes what data is used, what the data shows, and what insight this may provide for furthering this investigation. The examples given below should help steer you to decide what charts would be appropriate - you may also explore other data for your charts where informative also.\n",
    "\n",
    "### Assessment and Marking\n",
    "---\n",
    "\n",
    "Marks will be awarded for the following: \n",
    "\n",
    "| | 0 | 50 | 100 |\n",
    "| --- | --- | --- | --- | \n",
    "| **Line chart (20%)** | No line chart presented or major errors in the method used | Chart is visible using provided data, but some minor errors | Line chart that depicts the number of packets sent on the network per minute |\n",
    "| **Bar chart (20%)**  | No bar chart presented or major errors in the method used | Chart is visible using provided data, but some minor errors | Bar chart that depicts the volume of activity for each observed protocol |\n",
    "| **Scatter plot (20%)**  | No scatter plot presented or major errors in the method used | Chart is visible using provided data, but some minor errors | Scatter plot that depicts the source/destination IP pairs |\n",
    "| **Markdown (40%)**  | No markdown presented or major errors in the method used | Some limited use of Markdown | All charts are clearly described using Markdown notation |\n",
    "\n",
    "You will need to implement your final solution in the Notebook format, with Markdown annotation -  you should use this notebook file as a template for your submission. You are also expected to complete the assignment self-assessment.\n",
    "\n",
    "Your submission should include:\n",
    "- HTML export of your complete assignment in notebook format.\n",
    "- Original ipynb source file of your notebook.\n",
    "\n",
    "### Self-Assessment\n",
    "---\n",
    "\n",
    "For each criteria, please reflect on the marking rubric and indicate what grade you would expect to receive for the work that you are submitting. For your own personal development and learning, it is important to reflect on your work and to attempt to assess this careful. Do think carefully about both positive aspects of your work, as well as any limitations you may have faced.\n",
    "\n",
    "- **Line chart (20%)**: You estimate that your grade will be 18.\n",
    "\n",
    "- **Bar chart (20%)**: You estimate that your grade will be 18.\n",
    "\n",
    "- **Scatter plot (20%)**: You estimate that your grade will be 18.\n",
    "\n",
    "- **Markdown (40%)**: You estimate that your grade will be 35.\n",
    "\n",
    "Please provide a minimum of two sentences to comment and reflect on your own self-assessment: I finished the task hard. I have mastered some graphic analysis skills.\n",
    "\n",
    "\n",
    " \n",
    "### Contact\n",
    "---\n",
    "\n",
    "Questions about this assignment should be directed to your module leader (Phil.Legg@uwe.ac.uk). You can use the Blackboard Q&A feature to ask questions related to this module and this assignment, as well as the on-site teaching sessions.\n",
    "\n",
    "---"
   ]
  },
  {
   "cell_type": "code",
   "execution_count": null,
   "outputs": [],
   "source": [
    "import pandas as pd\n",
    "import matplotlib.pyplot as plt\n",
    "import seaborn as sns\n",
    "\n",
    "def load_csv_data():\n",
    "    data = pd.read_csv('./T1_data/T1_data.csv')\n",
    "    return data\n",
    "\n",
    "data = load_csv_data()\n"
   ],
   "metadata": {
    "collapsed": false,
    "pycharm": {
     "name": "#%%\n"
    }
   }
  },
  {
   "cell_type": "code",
   "execution_count": null,
   "outputs": [],
   "source": [
    "data.head(5)"
   ],
   "metadata": {
    "collapsed": false,
    "pycharm": {
     "name": "#%%\n"
    }
   }
  },
  {
   "cell_type": "code",
   "execution_count": 26,
   "metadata": {},
   "outputs": [
    {
     "data": {
      "text/html": [
       "<div>\n",
       "<style scoped>\n",
       "    .dataframe tbody tr th:only-of-type {\n",
       "        vertical-align: middle;\n",
       "    }\n",
       "\n",
       "    .dataframe tbody tr th {\n",
       "        vertical-align: top;\n",
       "    }\n",
       "\n",
       "    .dataframe thead th {\n",
       "        text-align: right;\n",
       "    }\n",
       "</style>\n",
       "<table border=\"1\" class=\"dataframe\">\n",
       "  <thead>\n",
       "    <tr style=\"text-align: right;\">\n",
       "      <th></th>\n",
       "      <th>No.</th>\n",
       "      <th>Time</th>\n",
       "      <th>Source</th>\n",
       "      <th>Destination</th>\n",
       "      <th>Protocol</th>\n",
       "      <th>Length</th>\n",
       "      <th>Info</th>\n",
       "    </tr>\n",
       "  </thead>\n",
       "  <tbody>\n",
       "    <tr>\n",
       "      <th>0</th>\n",
       "      <td>1</td>\n",
       "      <td>01:05:49.468757</td>\n",
       "      <td>172.16.1.4</td>\n",
       "      <td>172.16.1.255</td>\n",
       "      <td>BROWSER</td>\n",
       "      <td>243</td>\n",
       "      <td>Host Announcement CARLFORCE-DC1, Workstation, ...</td>\n",
       "    </tr>\n",
       "    <tr>\n",
       "      <th>1</th>\n",
       "      <td>2</td>\n",
       "      <td>01:05:50.279222</td>\n",
       "      <td>172.16.1.4</td>\n",
       "      <td>172.16.1.255</td>\n",
       "      <td>BROWSER</td>\n",
       "      <td>243</td>\n",
       "      <td>Host Announcement CARLFORCE-DC1, Workstation, ...</td>\n",
       "    </tr>\n",
       "    <tr>\n",
       "      <th>2</th>\n",
       "      <td>3</td>\n",
       "      <td>01:06:10.328524</td>\n",
       "      <td>172.16.1.201</td>\n",
       "      <td>224.0.0.252</td>\n",
       "      <td>LLMNR</td>\n",
       "      <td>66</td>\n",
       "      <td>Standard query 0x229b A isatap</td>\n",
       "    </tr>\n",
       "    <tr>\n",
       "      <th>3</th>\n",
       "      <td>4</td>\n",
       "      <td>01:06:10.390913</td>\n",
       "      <td>172.16.1.201</td>\n",
       "      <td>172.16.1.4</td>\n",
       "      <td>DNS</td>\n",
       "      <td>76</td>\n",
       "      <td>Standard query 0x6ef6 A www.msftncsi.com</td>\n",
       "    </tr>\n",
       "    <tr>\n",
       "      <th>4</th>\n",
       "      <td>5</td>\n",
       "      <td>01:06:10.391325</td>\n",
       "      <td>172.16.1.201</td>\n",
       "      <td>172.16.1.4</td>\n",
       "      <td>DNS</td>\n",
       "      <td>76</td>\n",
       "      <td>Standard query 0x6ef6 A www.msftncsi.com</td>\n",
       "    </tr>\n",
       "  </tbody>\n",
       "</table>\n",
       "</div>"
      ],
      "text/plain": [
       "   No.             Time        Source   Destination Protocol  Length  \\\n",
       "0    1  01:05:49.468757    172.16.1.4  172.16.1.255  BROWSER     243   \n",
       "1    2  01:05:50.279222    172.16.1.4  172.16.1.255  BROWSER     243   \n",
       "2    3  01:06:10.328524  172.16.1.201   224.0.0.252    LLMNR      66   \n",
       "3    4  01:06:10.390913  172.16.1.201    172.16.1.4      DNS      76   \n",
       "4    5  01:06:10.391325  172.16.1.201    172.16.1.4      DNS      76   \n",
       "\n",
       "                                                Info  \n",
       "0  Host Announcement CARLFORCE-DC1, Workstation, ...  \n",
       "1  Host Announcement CARLFORCE-DC1, Workstation, ...  \n",
       "2                     Standard query 0x229b A isatap  \n",
       "3           Standard query 0x6ef6 A www.msftncsi.com  \n",
       "4           Standard query 0x6ef6 A www.msftncsi.com  "
      ]
     },
     "execution_count": 26,
     "metadata": {},
     "output_type": "execute_result"
    }
   ],
   "source": [
    "data.head(5)"
   ]
  },
  {
   "cell_type": "code",
   "execution_count": null,
   "metadata": {},
   "outputs": [],
   "source": []
  }
 ],
 "metadata": {
  "kernelspec": {
   "display_name": "Python 3 (ipykernel)",
   "language": "python",
   "name": "python3"
  },
  "language_info": {
   "codemirror_mode": {
    "name": "ipython",
    "version": 3
   },
   "file_extension": ".py",
   "mimetype": "text/x-python",
   "name": "python",
   "nbconvert_exporter": "python",
   "pygments_lexer": "ipython3",
   "version": "3.9.10"
  },
  "widgets": {
   "state": {},
   "version": "1.1.2"
  }
 },
 "nbformat": 4,
 "nbformat_minor": 4
}