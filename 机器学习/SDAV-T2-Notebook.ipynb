{
 "cells": [
  {
   "cell_type": "markdown",
   "metadata": {
    "pycharm": {
     "name": "#%% md\n"
    }
   },
   "source": [
    "<img src=\"https://www.cems.uwe.ac.uk/~pa-legg/uwecyber/images/uwe.png\" width=300>\n",
    "<img src=\"https://www.cems.uwe.ac.uk/~pa-legg/uwecyber/images/uwecyber_acecse_200.jpg\" width=300>\n",
    "\n",
    "# UFCFEL-15-3 Security Data Analytics and Visualisation\n",
    "# Portfolio Task 2: Malware Analysis (2021)\n",
    "---\n",
    "\n",
    "The completion of this worksheet is worth **20%** towards your portfolio assignment for the UFCFEL-15-3 Security Data Analytics and Visualisation (SDAV) module.\n",
    "\n",
    "### Task\n",
    "---\n",
    "\n",
    "In this task, you have been given a set of data collected from 150 machines that are infected with different strands of malware. You need to develop your own classifier that is capable of classifying a new data observation as one of the three malware variants, based on the data observations provided. The data has been pre-processed so that you can train your classifier on 120 samples of data. 30 data samples are then to be used to test the performance of the classifier, to be able to report on the accuracy of your classifier. You should make use of visualisation to illustrate how your classifier is informed by your training data, and you should be able to show how the testing data compares against your classifier model. You will need to describe the analytical process you have taken using Markdown, and you will need to report your overall final accuracy for the classifier.\n",
    "\n",
    "### Assessment and Marking\n",
    "---\n",
    "\n",
    "| Criteria | 0-39 | 40-49 | 50-59 | 60-69 | 70-84 | 85-100 |\n",
    "| --- | --- | --- | --- | --- | --- | --- |\n",
    "| **Developing a suitable means to define each training data cluster centroid (20%)** | No evidence of progress | A limited attempt to address this criteria | A working solution but perhaps not optimal | Good approach to the problem | Very good approach to the problem | Excellent approach to the problem |\n",
    "| **Developing a suitable means to classify test data into their respective groups and calculate classifier accuracy (40%)**  | No evidence of progress | A limited attempt to address this criteria |  A working solution but perhaps not optimal | Good approach to the problem | Very good approach to the problem | Excellent approach to the problem |\n",
    "| **Visualisation of cluster centroids and of group membership for test data (20%)**  | No evidence of progress | A limited attempt to address this criteria |  A working solution but perhaps not optimal | Good approach to the problem | Very good approach to the problem | Excellent approach to the problem |\n",
    "| **Supporting commentary as documented using Markdown (20%)**  | No evidence of progress | A limited attempt to address this criteria | Some evidence of markdown commentary | Good approach to the problem | Very good approach to the problem | Excellent approach to the problem |\n",
    "\n",
    "You will need to implement your final solution in the Notebook format, with Markdown annotation -  you should use this notebook file as a template for your submission. You are also expected to complete the assignment self-assessment.\n",
    "\n",
    "Your submission should include:\n",
    "- HTML export of your complete assignment in notebook format.\n",
    "- Original ipynb source file of your notebook.\n",
    "\n",
    "### Self-Assessment\n",
    "---\n",
    "\n",
    "For each criteria, please reflect on the marking rubric and indicate what grade you would expect to receive for the work that you are submitting. For your own personal development and learning, it is important to reflect on your work and to attempt to assess this careful. Do think carefully about both positive aspects of your work, as well as any limitations you may have faced.\n",
    "\n",
    "- **Developing a suitable means to define each training data cluster centroid (20%)**: You estimate that your grade will be 90.\n",
    "\n",
    "- **Developing a suitable means to classify test data into their respective groups and calculate classifier accuracy (40%)**  : You estimate that your grade will be 90.\n",
    "\n",
    "- **Visualisation of cluster centroids and of group membership for test data (20%)**: You estimate that your grade will be 90.\n",
    "\n",
    "- **Supporting commentary as documented using Markdown (20%)**: You estimate that your grade will be 60.\n",
    "\n",
    "Please provide a minimum of two sentences to comment and reflect on your own self-assessment:\n",
    "I chose the appropriate machine learning algorithm to complete this task. I know how to use this algorithm to realize unsupervised learning.\n",
    "\n",
    "\n",
    "### Contact\n",
    "---\n",
    "\n",
    "Questions about this assignment should be directed to your module leader (Phil.Legg@uwe.ac.uk). You can use the Blackboard Q&A feature to ask questions related to this module and this assignment, as well as the on-site teaching sessions.\n",
    "\n",
    "---"
   ]
  },
  {
   "cell_type": "code",
   "execution_count": 2,
   "metadata": {
    "pycharm": {
     "name": "#%%\n"
    }
   },
   "outputs": [],
   "source": [
    "### Here are the imports that you will require\n",
    "import numpy as np\n",
    "import pandas as pd\n",
    "import matplotlib.pyplot as plt\n",
    "from sklearn.decomposition import PCA\n",
    "import seaborn as sns\n",
    "from sklearn.utils import shuffle\n",
    "\n",
    "def load_data():\n",
    "    # the data is a standard pcap packet capture file (saved as a csv output)\n",
    "    file_name = './T2_data/T2_data.csv'\n",
    "    data = pd.read_csv(file_name, names=['cpu', 'mem', 'net', 'io', 'state'], index_col=False)\n",
    "    pca = PCA(n_components=2)\n",
    "    out = pca.fit_transform(data[['cpu', 'mem', 'net','io']])\n",
    "    df = pd.DataFrame(out, columns=['pca1', 'pca2'])\n",
    "    df['state'] = data['state']\n",
    "    train_data = df[:120]\n",
    "    test_data = df[120:]\n",
    "    test_labels = test_data['state']\n",
    "    test_data = test_data.drop(columns='state')\n",
    "    malware = train_data['state'].unique()\n",
    "    return train_data, test_data, test_labels, malware\n",
    "\n",
    "# Here are the training and testing datasets\n",
    "# split into the input data and the output labels\n",
    "train_data, test_data, test_labels, malware = load_data()\n",
    "#malware = train_data['state'].unique()"
   ]
  },
  {
   "cell_type": "code",
   "execution_count": 3,
   "metadata": {
    "pycharm": {
     "name": "#%%\n"
    }
   },
   "outputs": [],
   "source": [
    "### Have a look at what the pre-loaded variables contain: train_data, test_data, test_labels, malware\n",
    "# print(\"Malware class titles:\", malware)"
   ]
  },
  {
   "cell_type": "markdown",
   "metadata": {
    "pycharm": {
     "name": "#%% md\n"
    }
   },
   "source": [
    "## Ploting the Data\n",
    "\n",
    "To better understand the data that we are working with, we can plot the 2 dimensions using a scatter plot. We can seperate our three classes by colour to identify the different clusters."
   ]
  },
  {
   "cell_type": "code",
   "execution_count": 4,
   "metadata": {
    "pycharm": {
     "name": "#%%\n"
    }
   },
   "outputs": [
    {
     "data": {
      "image/png": "[encoded data removed]",
      "text/plain": [
       "<Figure size 432x288 with 1 Axes>"
      ]
     },
     "metadata": {
      "needs_background": "light"
     },
     "output_type": "display_data"
    }
   ],
   "source": [
    "set1 = train_data[ train_data['state']==malware[0] ]\n",
    "set2 = train_data[train_data['state']==malware[1]]\n",
    "set3 = train_data[train_data['state']==malware[2]]\n",
    "plt.scatter(set1['pca1'], set1['pca2'])\n",
    "plt.scatter(set2['pca1'], set2['pca2'])\n",
    "plt.scatter(set3['pca1'], set3['pca2'])\n",
    "plt.show()"
   ]
  },
  {
   "cell_type": "markdown",
   "metadata": {
    "pycharm": {
     "name": "#%% md\n"
    }
   },
   "source": [
    "The above code loads in the dataset and splits this into 3 groups, based on the malware name given in the dataset. The three groups are plotted indepedently, each with a unique colour, so that we can begin to make comparison between these groups, and what characteristics may be used to differentiate.\n",
    "\n",
    "Now it is over to you..."
   ]
  },
  {
   "cell_type": "markdown",
   "metadata": {
    "pycharm": {
     "name": "#%% md\n"
    }
   },
   "source": [
    "K-means"
   ]
  },
  {
   "cell_type": "code",
   "execution_count": 67,
   "metadata": {
    "pycharm": {
     "name": "#%%\n"
    }
   },
   "outputs": [],
   "source": [
    "from sklearn.cluster import KMeans\n",
    "from sklearn.metrics import calinski_harabasz_score"
   ]
  },
  {
   "cell_type": "code",
   "execution_count": 68,
   "metadata": {
    "pycharm": {
     "name": "#%%\n"
    }
   },
   "outputs": [],
   "source": [
    "train_data = shuffle(train_data)\n",
    "X_train = train_data.iloc[:,:-1]\n",
    "cluster = KMeans(n_clusters=3,random_state=0).fit(X_train)"
   ]
  },
  {
   "cell_type": "code",
   "execution_count": 69,
   "metadata": {
    "pycharm": {
     "name": "#%%\n"
    }
   },
   "outputs": [],
   "source": [
    "y_pred = cluster.labels_\n",
    "# y_pred"
   ]
  },
  {
   "cell_type": "code",
   "execution_count": 70,
   "metadata": {
    "pycharm": {
     "name": "#%%\n"
    }
   },
   "outputs": [
    {
     "data": {
      "text/plain": [
       "504.3278407453171"
      ]
     },
     "execution_count": 70,
     "metadata": {},
     "output_type": "execute_result"
    }
   ],
   "source": [
    "calinski_harabasz_score(X_train,y_pred)"
   ]
  },
  {
   "cell_type": "code",
   "execution_count": 71,
   "metadata": {
    "pycharm": {
     "name": "#%%\n"
    }
   },
   "outputs": [],
   "source": [
    "pre = cluster.fit_predict(X_train)\n",
    "# pre"
   ]
  },
  {
   "cell_type": "code",
   "execution_count": 72,
   "metadata": {
    "pycharm": {
     "name": "#%%\n"
    }
   },
   "outputs": [],
   "source": [
    "cluster_smallsub = KMeans(n_clusters=3, random_state=0).fit(X_train[:100])\n",
    "y_pred_ = cluster_smallsub.predict(test_data)\n",
    "# y_pred_"
   ]
  },
  {
   "cell_type": "code",
   "execution_count": 73,
   "metadata": {
    "pycharm": {
     "name": "#%%\n"
    }
   },
   "outputs": [
    {
     "data": {
      "text/plain": [
       "0.0"
      ]
     },
     "execution_count": 73,
     "metadata": {},
     "output_type": "execute_result"
    }
   ],
   "source": [
    "test_labels = test_labels.replace({\"Andr0idM0nkey\":0, \"NetCryptoJaCker\":1,\"nixDestr00x0yer\":2})\n",
    "# np.count_nonzero(y_pred_ == test_labels) / len(test_labels)"
   ]
  },
  {
   "cell_type": "code",
   "execution_count": 74,
   "metadata": {
    "pycharm": {
     "name": "#%%\n"
    }
   },
   "outputs": [
    {
     "data": {
      "text/plain": [
       "array([[-2.64084076,  0.19051995],\n",
       "       [ 2.20216978,  0.23511453],\n",
       "       [ 0.49629159, -0.35948805]])"
      ]
     },
     "execution_count": 74,
     "metadata": {},
     "output_type": "execute_result"
    }
   ],
   "source": [
    "centroid = cluster.cluster_centers_\n",
    "centroid"
   ]
  },
  {
   "cell_type": "code",
   "execution_count": 75,
   "metadata": {
    "pycharm": {
     "name": "#%%\n"
    }
   },
   "outputs": [
    {
     "data": {
      "text/plain": [
       "51.07772393971393"
      ]
     },
     "execution_count": 75,
     "metadata": {},
     "output_type": "execute_result"
    }
   ],
   "source": [
    "inertia=cluster.inertia_\n",
    "inertia"
   ]
  },
  {
   "cell_type": "code",
   "execution_count": 76,
   "metadata": {
    "pycharm": {
     "name": "#%%\n"
    }
   },
   "outputs": [
    {
     "data": {
      "text/plain": [
       "<seaborn.axisgrid.JointGrid at 0x199d06bcd60>"
      ]
     },
     "execution_count": 76,
     "metadata": {},
     "output_type": "execute_result"
    },
    {
     "data": {
      "image/png": "[encoded data removed]",
      "text/plain": [
       "<Figure size 432x432 with 3 Axes>"
      ]
     },
     "metadata": {
      "needs_background": "light"
     },
     "output_type": "display_data"
    }
   ],
   "source": [
    "sns.jointplot(data=train_data, x=\"pca1\", y=\"pca2\", hue=\"state\")"
   ]
  }
 ],
 "metadata": {
  "kernelspec": {
   "display_name": "Python 3 (ipykernel)",
   "language": "python",
   "name": "python3"
  },
  "language_info": {
   "codemirror_mode": {
    "name": "ipython",
    "version": 3
   },
   "file_extension": ".py",
   "mimetype": "text/x-python",
   "name": "python",
   "nbconvert_exporter": "python",
   "pygments_lexer": "ipython3",
   "version": "3.9.10"
  },
  "widgets": {
   "state": {},
   "version": "1.1.2"
  }
 },
 "nbformat": 4,
 "nbformat_minor": 4
}