{
 "cells": [
  {
   "cell_type": "markdown",
   "source": [
    "导入必要的库"
   ],
   "metadata": {
    "collapsed": false,
    "pycharm": {
     "name": "#%% md\n"
    }
   }
  },
  {
   "cell_type": "code",
   "execution_count": 200,
   "metadata": {
    "collapsed": true,
    "pycharm": {
     "name": "#%%\n"
    }
   },
   "outputs": [],
   "source": [
    "# from pyspark.mllib.regression import LabeledPoint\n",
    "# from pyspark.mllib.regression import LinearRegressionModel\n",
    "import pandas as pd\n",
    "import numpy as np"
   ]
  },
  {
   "cell_type": "markdown",
   "source": [
    "读取csv文件数据，过滤时间段为（1981年-2010年），筛选某城市并分组聚合"
   ],
   "metadata": {
    "collapsed": false,
    "pycharm": {
     "name": "#%% md\n"
    }
   }
  },
  {
   "cell_type": "code",
   "execution_count": 201,
   "outputs": [
    {
     "data": {
      "text/plain": "   月份  最大温度  最小温度    降水量\n0   1  19.0  10.8   44.3\n1   2  20.7  13.5   67.9\n2   3  22.8  15.9   94.9\n3   4  26.5  20.0  183.5\n4   5  30.5  23.3  285.6",
      "text/html": "<div>\n<style scoped>\n    .dataframe tbody tr th:only-of-type {\n        vertical-align: middle;\n    }\n\n    .dataframe tbody tr th {\n        vertical-align: top;\n    }\n\n    .dataframe thead th {\n        text-align: right;\n    }\n</style>\n<table border=\"1\" class=\"dataframe\">\n  <thead>\n    <tr style=\"text-align: right;\">\n      <th></th>\n      <th>月份</th>\n      <th>最大温度</th>\n      <th>最小温度</th>\n      <th>降水量</th>\n    </tr>\n  </thead>\n  <tbody>\n    <tr>\n      <th>0</th>\n      <td>1</td>\n      <td>19.0</td>\n      <td>10.8</td>\n      <td>44.3</td>\n    </tr>\n    <tr>\n      <th>1</th>\n      <td>2</td>\n      <td>20.7</td>\n      <td>13.5</td>\n      <td>67.9</td>\n    </tr>\n    <tr>\n      <th>2</th>\n      <td>3</td>\n      <td>22.8</td>\n      <td>15.9</td>\n      <td>94.9</td>\n    </tr>\n    <tr>\n      <th>3</th>\n      <td>4</td>\n      <td>26.5</td>\n      <td>20.0</td>\n      <td>183.5</td>\n    </tr>\n    <tr>\n      <th>4</th>\n      <td>5</td>\n      <td>30.5</td>\n      <td>23.3</td>\n      <td>285.6</td>\n    </tr>\n  </tbody>\n</table>\n</div>"
     },
     "execution_count": 201,
     "metadata": {},
     "output_type": "execute_result"
    }
   ],
   "source": [
    "o = open('NMC_Data.csv')\n",
    "df = pd.read_csv(o)\n",
    "# 时间过滤\n",
    "df = df.query(\"时间段=='1981年-2010年'\")\n",
    "# 城市过滤\n",
    "df = df.query(f\"城市=='广州'\")\n",
    "# 分组聚合\n",
    "df = df.groupby(['月份']).agg({'最大温度': np.mean, '最小温度': np.mean, '降水量': np.sum})\n",
    "df = df.reset_index()\n",
    "df.head()"
   ],
   "metadata": {
    "collapsed": false,
    "pycharm": {
     "name": "#%%\n"
    }
   }
  },
  {
   "cell_type": "markdown",
   "source": [
    "数据清洗与转换"
   ],
   "metadata": {
    "collapsed": false,
    "pycharm": {
     "name": "#%% md\n"
    }
   }
  },
  {
   "cell_type": "code",
   "execution_count": 202,
   "outputs": [
    {
     "name": "stdout",
     "output_type": "stream",
     "text": [
      "[[19. ]\n",
      " [20.7]\n",
      " [22.8]\n",
      " [26.5]\n",
      " [30.5]\n",
      " [32. ]\n",
      " [33.7]\n",
      " [33.5]\n",
      " [32.1]\n",
      " [29.7]\n",
      " [25.3]\n",
      " [21. ]]\n",
      "[[10.8]\n",
      " [13.5]\n",
      " [15.9]\n",
      " [20. ]\n",
      " [23.3]\n",
      " [25.1]\n",
      " [26.3]\n",
      " [25.9]\n",
      " [24.7]\n",
      " [21.6]\n",
      " [16.5]\n",
      " [12. ]]\n",
      "[[ 44.3]\n",
      " [ 67.9]\n",
      " [ 94.9]\n",
      " [183.5]\n",
      " [285.6]\n",
      " [315. ]\n",
      " [240. ]\n",
      " [230.8]\n",
      " [200.9]\n",
      " [ 70.5]\n",
      " [ 38.4]\n",
      " [ 29.4]]\n"
     ]
    }
   ],
   "source": [
    "# 删除数据中带有缺失值的行\n",
    "df = df.dropna()\n",
    "# 获取最大温度,最小温度,降水量三列数据\n",
    "max_temp = df.iloc[:, 1].to_numpy().reshape(-1, 1)\n",
    "min_temp = df.iloc[:, 2].to_numpy().reshape(-1, 1)\n",
    "rain_sum = df.iloc[:, 3].to_numpy().reshape(-1, 1)\n",
    "print(max_temp)\n",
    "print(min_temp)\n",
    "print(rain_sum)"
   ],
   "metadata": {
    "collapsed": false,
    "pycharm": {
     "name": "#%%\n"
    }
   }
  },
  {
   "cell_type": "markdown",
   "source": [
    "构建线性回归模型"
   ],
   "metadata": {
    "collapsed": false,
    "pycharm": {
     "name": "#%% md\n"
    }
   }
  },
  {
   "cell_type": "code",
   "execution_count": 203,
   "outputs": [
    {
     "name": "stdout",
     "output_type": "stream",
     "text": [
      "y=15.6117*x+-156.4092\n"
     ]
    }
   ],
   "source": [
    "# 导入机器学习库中的线性回归类\n",
    "from sklearn.linear_model import LinearRegression\n",
    "\n",
    "# 新建一个线性回归模型，并把数据放进去对模型进行训练\n",
    "linear_regressor = LinearRegression()\n",
    "# 基于最高温度拟合线性回归模型\n",
    "linear_regressor.fit(max_temp,rain_sum)\n",
    "# 训练后的模型（最高温度）预测降雨量趋势\n",
    "rain_sum_pred1 = linear_regressor.predict(max_temp)\n",
    "# 基于最低温度拟合线性回归模型\n",
    "linear_regressor.fit(min_temp,rain_sum)\n",
    "# 训练后的模型（最低温度）预测降雨量趋势\n",
    "rain_sum_pred2 = linear_regressor.predict(min_temp)\n",
    "\n",
    "# coef_是系数，intercept_是截距\n",
    "a = linear_regressor.coef_[0][0]\n",
    "b = linear_regressor.intercept_[0]\n",
    "print(\"y=%.4f*x+%.4f\" % (a,b))\n",
    "\n",
    "#需分开对回归模型进行评分\n",
    "# print(\"得分\", linear_regressor.score(max_temp, rain_sum))\n",
    "# print(\"得分\", linear_regressor.score(min_temp, rain_sum))\n"
   ],
   "metadata": {
    "collapsed": false,
    "pycharm": {
     "name": "#%%\n"
    }
   }
  },
  {
   "cell_type": "markdown",
   "source": [
    "结果可视化"
   ],
   "metadata": {
    "collapsed": false,
    "pycharm": {
     "name": "#%% md\n"
    }
   }
  },
  {
   "cell_type": "code",
   "execution_count": 204,
   "outputs": [
    {
     "data": {
      "text/plain": "<Figure size 432x288 with 1 Axes>",
      "image/png": "[encoded data removed]"
     },
     "metadata": {
      "needs_background": "light"
     },
     "output_type": "display_data"
    }
   ],
   "source": [
    "import matplotlib.pyplot as plt\n",
    "# 设置全局字体样式\n",
    "font = {\n",
    "    'family': 'SimHei'\n",
    "}\n",
    "plt.rc('font', **font)\n",
    "# 绘制散点图\n",
    "plt.scatter(max_temp,rain_sum)\n",
    "plt.scatter(min_temp,rain_sum)\n",
    "\n",
    "# 绘制温度与降水量线性相关曲线\n",
    "plt.plot(max_temp,rain_sum_pred1,color='red', label=\"平均最高气温趋势\")\n",
    "plt.plot(min_temp,rain_sum_pred2,color='blue', label=\"平均最低气温趋势\")\n",
    "# 在左侧显示图例\n",
    "plt.legend(loc=\"upper left\")\n",
    "# 为两条坐标轴设置名称\n",
    "plt.xlabel(\"温度\")\n",
    "plt.ylabel(\"降水（mm）\")\n",
    "plt.show()\n",
    "## 得出结论，随着平均气温的升高，降水量也将随之上升"
   ],
   "metadata": {
    "collapsed": false,
    "pycharm": {
     "name": "#%%\n"
    }
   }
  }
 ],
 "metadata": {
  "kernelspec": {
   "display_name": "Python 3",
   "language": "python",
   "name": "python3"
  },
  "language_info": {
   "codemirror_mode": {
    "name": "ipython",
    "version": 2
   },
   "file_extension": ".py",
   "mimetype": "text/x-python",
   "name": "python",
   "nbconvert_exporter": "python",
   "pygments_lexer": "ipython2",
   "version": "2.7.6"
  }
 },
 "nbformat": 4,
 "nbformat_minor": 0
}