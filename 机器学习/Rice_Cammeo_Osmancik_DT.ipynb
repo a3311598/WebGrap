{
 "cells": [
  {
   "cell_type": "markdown",
   "source": [
    "* 导入机器学习算法相关工具包"
   ],
   "metadata": {
    "collapsed": false,
    "pycharm": {
     "name": "#%% md\n"
    }
   }
  },
  {
   "cell_type": "code",
   "execution_count": 68,
   "outputs": [],
   "source": [
    "import matplotlib.pyplot as plt\n",
    "from sklearn.model_selection import GridSearchCV\n",
    "from sklearn.model_selection import train_test_split\n",
    "from sklearn.tree import DecisionTreeClassifier\n",
    "from sklearn.tree import plot_tree\n",
    "import pandas as pd\n",
    "import numpy as np"
   ],
   "metadata": {
    "collapsed": false,
    "pycharm": {
     "name": "#%%\n"
    }
   }
  },
  {
   "cell_type": "markdown",
   "source": [
    "1. 加载数据"
   ],
   "metadata": {
    "collapsed": false,
    "pycharm": {
     "name": "#%% md\n"
    }
   }
  },
  {
   "cell_type": "code",
   "execution_count": 69,
   "metadata": {
    "collapsed": true,
    "pycharm": {
     "name": "#%%\n"
    }
   },
   "outputs": [
    {
     "data": {
      "text/plain": "    Area   Perimeter  Major_Axis_Length  Minor_Axis_Length  Eccentricity  \\\n0  15231  525.578979         229.749878          85.093788      0.928882   \n1  14656  494.311005         206.020065          91.730972      0.895405   \n2  14634  501.122009         214.106781          87.768288      0.912118   \n3  13176  458.342987         193.337387          87.448395      0.891861   \n4  14688  507.166992         211.743378          89.312454      0.906691   \n\n   Convex_Area    Extent   Class  \n0        15617  0.572896  Cammeo  \n1        15072  0.615436  Cammeo  \n2        14954  0.693259  Cammeo  \n3        13368  0.640669  Cammeo  \n4        15262  0.646024  Cammeo  ",
      "text/html": "<div>\n<style scoped>\n    .dataframe tbody tr th:only-of-type {\n        vertical-align: middle;\n    }\n\n    .dataframe tbody tr th {\n        vertical-align: top;\n    }\n\n    .dataframe thead th {\n        text-align: right;\n    }\n</style>\n<table border=\"1\" class=\"dataframe\">\n  <thead>\n    <tr style=\"text-align: right;\">\n      <th></th>\n      <th>Area</th>\n      <th>Perimeter</th>\n      <th>Major_Axis_Length</th>\n      <th>Minor_Axis_Length</th>\n      <th>Eccentricity</th>\n      <th>Convex_Area</th>\n      <th>Extent</th>\n      <th>Class</th>\n    </tr>\n  </thead>\n  <tbody>\n    <tr>\n      <th>0</th>\n      <td>15231</td>\n      <td>525.578979</td>\n      <td>229.749878</td>\n      <td>85.093788</td>\n      <td>0.928882</td>\n      <td>15617</td>\n      <td>0.572896</td>\n      <td>Cammeo</td>\n    </tr>\n    <tr>\n      <th>1</th>\n      <td>14656</td>\n      <td>494.311005</td>\n      <td>206.020065</td>\n      <td>91.730972</td>\n      <td>0.895405</td>\n      <td>15072</td>\n      <td>0.615436</td>\n      <td>Cammeo</td>\n    </tr>\n    <tr>\n      <th>2</th>\n      <td>14634</td>\n      <td>501.122009</td>\n      <td>214.106781</td>\n      <td>87.768288</td>\n      <td>0.912118</td>\n      <td>14954</td>\n      <td>0.693259</td>\n      <td>Cammeo</td>\n    </tr>\n    <tr>\n      <th>3</th>\n      <td>13176</td>\n      <td>458.342987</td>\n      <td>193.337387</td>\n      <td>87.448395</td>\n      <td>0.891861</td>\n      <td>13368</td>\n      <td>0.640669</td>\n      <td>Cammeo</td>\n    </tr>\n    <tr>\n      <th>4</th>\n      <td>14688</td>\n      <td>507.166992</td>\n      <td>211.743378</td>\n      <td>89.312454</td>\n      <td>0.906691</td>\n      <td>15262</td>\n      <td>0.646024</td>\n      <td>Cammeo</td>\n    </tr>\n  </tbody>\n</table>\n</div>"
     },
     "execution_count": 69,
     "metadata": {},
     "output_type": "execute_result"
    }
   ],
   "source": [
    "data_RCO = pd.read_csv('Rice_Cammeo_Osmancik.csv')\n",
    "data_RCO.head()\n"
   ]
  },
  {
   "cell_type": "markdown",
   "source": [
    "2. 数据预处理"
   ],
   "metadata": {
    "collapsed": false,
    "pycharm": {
     "name": "#%% md\n"
    }
   }
  },
  {
   "cell_type": "code",
   "execution_count": 70,
   "outputs": [],
   "source": [
    "# 特征集,包含前7列数据\n",
    "X = data_RCO.iloc[:, data_RCO.columns != 'Class']\n",
    "Y = data_RCO['Class']\n"
   ],
   "metadata": {
    "collapsed": false,
    "pycharm": {
     "name": "#%%\n"
    }
   }
  },
  {
   "cell_type": "code",
   "execution_count": 71,
   "outputs": [],
   "source": [
    "# 分割验证集和训练集\n",
    "Xtrain, Xtest, Ytrain, Ytest = train_test_split(X,Y,test_size=0.2)"
   ],
   "metadata": {
    "collapsed": false,
    "pycharm": {
     "name": "#%%\n"
    }
   }
  },
  {
   "cell_type": "markdown",
   "source": [],
   "metadata": {
    "collapsed": false,
    "pycharm": {
     "name": "#%% md\n"
    }
   }
  },
  {
   "cell_type": "markdown",
   "source": [
    "3. 算法应用 : 决策树 (DT)"
   ],
   "metadata": {
    "collapsed": false,
    "pycharm": {
     "name": "#%% md\n"
    }
   }
  },
  {
   "cell_type": "code",
   "execution_count": 72,
   "outputs": [],
   "source": [
    "# 构建决策树模型 (Decision Tree)\n",
    "DT = DecisionTreeClassifier(random_state=3)"
   ],
   "metadata": {
    "collapsed": false,
    "pycharm": {
     "name": "#%%\n"
    }
   }
  },
  {
   "cell_type": "code",
   "execution_count": 73,
   "outputs": [],
   "source": [
    "# 使用网格搜索进行超参数调优\n",
    "# parameters = {'splitter':('best','random')\n",
    "#                 ,'criterion':(\"gini\",\"entropy\")\n",
    "#                 ,\"max_depth\":[*range(1,10)]\n",
    "#                 ,'min_samples_leaf':[*range(1,50,5)]\n",
    "#                 ,'min_impurity_decrease':[*np.linspace(0,0.5,20)]\n",
    "# }\n",
    "# GS = GridSearchCV(DT, parameters, cv=10)\n",
    "# GS.fit(Xtrain,Ytrain)\n",
    "# print(GS.best_params_)\n",
    "# print(GS.best_score_)\n",
    "#\n",
    "# score = DT.score(Xtest, Ytest)\n",
    "# print(score)\n"
   ],
   "metadata": {
    "collapsed": false,
    "pycharm": {
     "name": "#%%\n"
    }
   }
  },
  {
   "cell_type": "code",
   "execution_count": 74,
   "outputs": [
    {
     "data": {
      "text/plain": "DecisionTreeClassifier(random_state=3)"
     },
     "execution_count": 74,
     "metadata": {},
     "output_type": "execute_result"
    }
   ],
   "source": [
    "# 训练模型\n",
    "DT.fit(Xtrain,Ytrain)"
   ],
   "metadata": {
    "collapsed": false,
    "pycharm": {
     "name": "#%%\n"
    }
   }
  },
  {
   "cell_type": "code",
   "execution_count": 75,
   "outputs": [
    {
     "name": "stdout",
     "output_type": "stream",
     "text": [
      "0.889763779527559\n"
     ]
    }
   ],
   "source": [
    "# 评估模型\n",
    "score = DT.score(Xtest, Ytest)\n",
    "print(score)"
   ],
   "metadata": {
    "collapsed": false,
    "pycharm": {
     "name": "#%%\n"
    }
   }
  },
  {
   "cell_type": "code",
   "execution_count": 76,
   "outputs": [
    {
     "name": "stdout",
     "output_type": "stream",
     "text": [
      "Osmancik\n"
     ]
    }
   ],
   "source": [
    "# 使用测试集对模型进行预测\n",
    "y_predict = DT.predict(Xtest)\n",
    "print(y_predict[0])"
   ],
   "metadata": {
    "collapsed": false,
    "pycharm": {
     "name": "#%%\n"
    }
   }
  },
  {
   "cell_type": "markdown",
   "source": [
    "4. 可视化分析"
   ],
   "metadata": {
    "collapsed": false,
    "pycharm": {
     "name": "#%% md\n"
    }
   }
  },
  {
   "cell_type": "code",
   "execution_count": 79,
   "outputs": [
    {
     "data": {
      "text/plain": "[Text(0.5, 0.875, 'Major_Axis_Length <= 191.817\\ngini = 0.488\\nsamples = 3048\\nvalue = [1289, 1759]\\nclass = Osmancik'),\n Text(0.25, 0.625, 'Major_Axis_Length <= 181.237\\ngini = 0.111\\nsamples = 1761\\nvalue = [104, 1657]\\nclass = Osmancik'),\n Text(0.125, 0.375, 'Extent <= 0.824\\ngini = 0.017\\nsamples = 1288\\nvalue = [11, 1277]\\nclass = Osmancik'),\n Text(0.0625, 0.125, '\\n  (...)  \\n'),\n Text(0.1875, 0.125, '\\n  (...)  \\n'),\n Text(0.375, 0.375, 'Major_Axis_Length <= 186.506\\ngini = 0.316\\nsamples = 473\\nvalue = [93, 380]\\nclass = Osmancik'),\n Text(0.3125, 0.125, '\\n  (...)  \\n'),\n Text(0.4375, 0.125, '\\n  (...)  \\n'),\n Text(0.75, 0.625, 'Perimeter <= 467.825\\ngini = 0.146\\nsamples = 1287\\nvalue = [1185, 102]\\nclass = Cammeo'),\n Text(0.625, 0.375, 'Major_Axis_Length <= 192.971\\ngini = 0.441\\nsamples = 195\\nvalue = [131, 64]\\nclass = Cammeo'),\n Text(0.5625, 0.125, '\\n  (...)  \\n'),\n Text(0.6875, 0.125, '\\n  (...)  \\n'),\n Text(0.875, 0.375, 'Major_Axis_Length <= 206.255\\ngini = 0.067\\nsamples = 1092\\nvalue = [1054, 38]\\nclass = Cammeo'),\n Text(0.8125, 0.125, '\\n  (...)  \\n'),\n Text(0.9375, 0.125, '\\n  (...)  \\n')]"
     },
     "execution_count": 79,
     "metadata": {},
     "output_type": "execute_result"
    },
    {
     "data": {
      "text/plain": "<Figure size 432x288 with 1 Axes>",
      "image/png": "[encoded data removed]"
     },
     "metadata": {
      "needs_background": "light"
     },
     "output_type": "display_data"
    }
   ],
   "source": [
    "feature_names = data_RCO.columns[:7]\n",
    "target_names = data_RCO['Class'].unique().tolist()\n",
    "plot_tree(DT,feature_names=feature_names,class_names=target_names,filled=True,rounded=True, max_depth=2, fontsize=8)\n",
    "# plt.savefig('RCC_DT.png', dpi=300)"
   ],
   "metadata": {
    "collapsed": false,
    "pycharm": {
     "name": "#%%\n"
    }
   }
  }
 ],
 "metadata": {
  "kernelspec": {
   "display_name": "Python 3",
   "language": "python",
   "name": "python3"
  },
  "language_info": {
   "codemirror_mode": {
    "name": "ipython",
    "version": 2
   },
   "file_extension": ".py",
   "mimetype": "text/x-python",
   "name": "python",
   "nbconvert_exporter": "python",
   "pygments_lexer": "ipython2",
   "version": "2.7.6"
  }
 },
 "nbformat": 4,
 "nbformat_minor": 0
}