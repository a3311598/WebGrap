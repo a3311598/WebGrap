{
  "cells": [
    {
      "cell_type": "markdown",
      "id": "1c9a0f6b",
      "metadata": {
        "deletable": false,
        "editable": false,
        "nbgrader": {
          "cell_type": "markdown",
          "checksum": "a1d88d2aae8f627e4bdd8b1ee9e6550a",
          "grade": false,
          "grade_id": "intro",
          "locked": true,
          "schema_version": 3,
          "solution": false,
          "task": false
        },
        "pycharm": {
          "name": "#%% md\n"
        }
      },
      "source": [
        "# Seventh assignment\n",
        "The assignment provides problems regarding basic applications of linear algebra and machine learning. Use this notebook to perform the computations and insert your comments into it. All the coding must be done in Python 3. \n",
        "\n",
        "The assignment has to be submitted individually!\n",
        "\n",
        "All your plots have to be labelled properly!  (Non-labeled plots will result in point deductions!)\n",
        "\n",
        "**Non running cells/tasks will not be considered!**\n",
        "\n",
        "The tasks/questions are 1.1), 1.2), 1.3), 1.4), 1.5), 2.1), 2.2), 2.3), 2.4), 3.1), 3.2), 3.3) and 3.4). After each task description there is an answer cell for your code or text. For coding tasks they look like this:\n",
        "\n",
        "```\n",
        "# YOUR CODE HERE\n",
        "```\n",
        "(You can delete the \"YOUR CODE HERE\" comment, if you like.)\n",
        "\n",
        "For markdown (text) cells the response cell will include this:\n",
        "\n",
        "**WRITE YOUR ANSWER HERE**\n",
        "\n",
        "Sometimes they are followed by test cells. You can run the test cells after you finished the task. If these cells don't show any errors, your answer is right. You can't/shouldn't edit test cells!\n",
        "\n",
        "After you finished the notebook you can hit the \"Validate\" button on the top of the notebook to see if all test are good. You can also use the \"Validate\" button on the \"Assignment\" tap on the main page of python.ldv.ei.tum.de. Some tasks will be graded manually (e.g. plots, text answers). They don't have a following test cell. \n",
        "\n",
        "Please make sure to hit the \"Submit\" button on the \"Assignment\" tab on the main page of python.ldv.ei.tum.de before the deadline passes. You will get your final score after the deadline.\n",
        "\n",
        "**Some tips:**\n",
        "- Only change cells with `# YOUR CODE HERE` or **WRITE YOUR ANSWER HERE**\n",
        "- Do not change cell types or the notebook name.\n",
        "- Do not add other .ipynb files into the ami22 folder or subfolders.\n",
        "- Do not override the original files in the ami22 folder or subfolders.\n",
        "- For every plot makes sure that axes are correctly labeled with original labels and not encoded ones. \n",
        "- If you are asked to provide multiple plots, make sure that the titles are clear. A plot should be self explanatory, we should not have to look at your code to know what is plotted. \n",
        "\n",
        "#### Date of submission: June 28, 2022, 23:55 hrs"
      ]
    },
    {
      "cell_type": "code",
      "execution_count": 1,
      "id": "0c7f1315",
      "metadata": {
        "deletable": false,
        "editable": false,
        "nbgrader": {
          "cell_type": "code",
          "checksum": "bd57915cb8527eff23fbadce74363150",
          "grade": false,
          "grade_id": "import",
          "locked": true,
          "schema_version": 3,
          "solution": false,
          "task": false
        },
        "pycharm": {
          "name": "#%%\n"
        }
      },
      "outputs": [],
      "source": [
        "import numpy as np\n",
        "import scipy.signal as sig\n",
        "# import tensorflow as tf\n",
        "import tensorflow as tf\n",
        "from keras.applications.mobilenet_v2 import MobileNetV2, decode_predictions, preprocess_input\n",
        "from keras.layers import Flatten, Dense, Conv2D, MaxPooling2D\n",
        "from tensorflow.keras.preprocessing.image import img_to_array\n",
        "from keras.datasets import cifar10\n",
        "from keras.callbacks import EarlyStopping\n",
        "from keras import utils\n",
        "from keras.utils.vis_utils import plot_model\n",
        "# from tensorflow.keras.wrappers.scikit_learn import KerasClassifier\n",
        "# from keras.wrappers.scikit_learn import KerasClassifier\n",
        "from scikeras.wrappers import KerasClassifier, KerasRegressor\n",
        "from sklearn.model_selection import train_test_split, GridSearchCV\n",
        "from PIL import Image\n",
        "import matplotlib.pyplot as plt"
      ]
    },
    {
      "cell_type": "markdown",
      "id": "903fd453",
      "metadata": {
        "deletable": false,
        "editable": false,
        "nbgrader": {
          "cell_type": "markdown",
          "checksum": "07b05ef4967c50c9f752e49217930ce2",
          "grade": false,
          "grade_id": "dataset-descriptor",
          "locked": true,
          "schema_version": 3,
          "solution": false,
          "task": false
        },
        "pycharm": {
          "name": "#%% md\n"
        }
      },
      "source": [
        "In the first part you will be using the famous CIFAR-10 dataset. The dataset consists of 32 by 32 RGB images of 10 different classes. You can assume it being the small sister of ImageNet. We will sketch how you could run a gridsearch using sklearn together with keras. Due to the limited compute capabilites, we will use the training set only and define our own split. "
      ]
    },
    {
      "cell_type": "code",
      "execution_count": 307,
      "id": "a936b866",
      "metadata": {
        "deletable": false,
        "editable": false,
        "nbgrader": {
          "cell_type": "code",
          "checksum": "baf117b0a6cb0bcb2edca66ab193e255",
          "grade": false,
          "grade_id": "dataloader",
          "locked": true,
          "schema_version": 3,
          "solution": false,
          "task": false
        },
        "pycharm": {
          "name": "#%%\n"
        }
      },
      "outputs": [
        {
          "name": "stdout",
          "output_type": "stream",
          "text": [
            "(25000, 32, 32, 3)\n",
            "(25000, 32, 32, 3)\n"
          ]
        }
      ],
      "source": [
        "(X, y), (_,_) = cifar10.load_data() #due to the limited computing \n",
        "#capacity we take the training samples only and do our own split\n",
        "X_train, X_test, y_train, y_test = train_test_split(X,y,stratify=y,test_size=0.5, random_state=42)\n",
        "print(X_train.shape)\n",
        "# convert the images to floats between 0 and 1\n",
        "X_train,X_test = X_train.astype('float32')/255, X_test.astype('float32')/255\n",
        "print(X_test.shape)\n",
        "# convert the labels to one-hot encoding\n",
        "(y_train, y_test)=  utils.to_categorical(y_train,10), utils.to_categorical(y_test,10)\n",
        "# mean center the images\n",
        "X_train_mean = np.expand_dims(X_train.mean(axis=0),axis=0)\n",
        "X_train = X_train-X_train_mean\n",
        "X_test = X_test-X_train_mean\n"
      ]
    },
    {
      "cell_type": "code",
      "execution_count": 308,
      "outputs": [],
      "source": [
        "# Creating the model\n",
        "def create_cnn_model(n_filters=(32,32), kernel_sizes=((5,5),(3,3)), activations=('relu','relu'), randseed=42):\n",
        "    tf.random.set_seed(randseed)\n",
        "    cnn_model = tf.keras.models.Sequential([\n",
        "    Conv2D(n_filters[0], kernel_sizes[0], activation=activations[0], input_shape=(32, 32, 3)),\n",
        "    MaxPooling2D((2, 2)),\n",
        "    Conv2D(n_filters[1], kernel_sizes[1], activation=activations[1]),\n",
        "    Flatten(),\n",
        "    Dense(10, activation='softmax')\n",
        "    ],\n",
        "    name=\"CNN\"\n",
        "    )\n",
        "    cnn_model.compile(optimizer='adam', loss='categorical_crossentropy', metrics=['accuracy'])\n",
        "    # cnn_model.summary()\n",
        "    return cnn_model\n",
        "\n",
        "model = create_cnn_model()\n",
        "# utils.plot_model(model, 'img1.jpg')"
      ],
      "metadata": {
        "collapsed": false,
        "pycharm": {
          "name": "#%%\n"
        }
      }
    },
    {
      "cell_type": "markdown",
      "source": [
        "**Task 1.1**\n",
        "\n",
        "a) Set up an `EarlyStopping()` callback to monitor the validation loss. Set the `mode=min`, a patience of 3 epochs and make sure the best weights will be restored. Use a verbosity level of 1 and store the callback function to the variable `es`! \n",
        "\n",
        "b) Set up a `KerasClassifier()` with `create_cnn_model` as build function. Set the following parameters:\n",
        "- `validation_split=.25`\n",
        "- `epochs=25`\n",
        "- `batch_size=128`\n",
        "- `verbose=0`\n",
        "Store the Classifier to the variable `cnn`!\n",
        "\n",
        "c) Define a dict `param_grid` to test the number of filters `(16,16)` and `(16,32)` as well as the kernel sizes of `(3,3),(3,3)` and `(3,3),(5,5)`!\n",
        "\n",
        "Finally use the provided code to run the grid search. This can take a few minutes."
      ],
      "metadata": {
        "collapsed": false,
        "pycharm": {
          "name": "#%% md\n"
        }
      }
    },
    {
      "cell_type": "code",
      "execution_count": 323,
      "outputs": [
        {
          "name": "stdout",
          "output_type": "stream",
          "text": [
            "Fitting 2 folds for each of 4 candidates, totalling 8 fits\n",
            "[CV] END ..kernel_sizes=((3, 3), (3, 3)), n_filters=(16, 16); total time= 1.0min\n",
            "[CV] END ..kernel_sizes=((3, 3), (3, 3)), n_filters=(16, 16); total time= 1.3min\n",
            "[CV] END ..kernel_sizes=((3, 3), (3, 3)), n_filters=(16, 32); total time= 1.3min\n",
            "[CV] END ..kernel_sizes=((3, 3), (3, 3)), n_filters=(16, 32); total time= 1.3min\n",
            "[CV] END ..kernel_sizes=((3, 3), (5, 5)), n_filters=(16, 16); total time= 1.6min\n",
            "[CV] END ..kernel_sizes=((3, 3), (5, 5)), n_filters=(16, 16); total time= 1.5min\n",
            "[CV] END ..kernel_sizes=((3, 3), (5, 5)), n_filters=(16, 32); total time= 1.6min\n",
            "[CV] END ..kernel_sizes=((3, 3), (5, 5)), n_filters=(16, 32); total time= 1.4min\n"
          ]
        },
        {
          "data": {
            "text/plain": "{'mean_fit_time': array([67.80751181, 77.94866681, 90.49314749, 85.70162082]),\n 'std_fit_time': array([8.21300507, 0.26594853, 1.18730342, 6.00179935]),\n 'mean_score_time': array([1.25613296, 1.43620527, 1.99201345, 1.84658766]),\n 'std_score_time': array([0.18154633, 0.04441988, 0.01171303, 0.18153882]),\n 'param_kernel_sizes': masked_array(data=[((3, 3), (3, 3)), ((3, 3), (3, 3)), ((3, 3), (5, 5)),\n                    ((3, 3), (5, 5))],\n              mask=[False, False, False, False],\n        fill_value='?',\n             dtype=object),\n 'param_n_filters': masked_array(data=[(16, 16), (16, 32), (16, 16), (16, 32)],\n              mask=[False, False, False, False],\n        fill_value='?',\n             dtype=object),\n 'params': [{'kernel_sizes': ((3, 3), (3, 3)), 'n_filters': (16, 16)},\n  {'kernel_sizes': ((3, 3), (3, 3)), 'n_filters': (16, 32)},\n  {'kernel_sizes': ((3, 3), (5, 5)), 'n_filters': (16, 16)},\n  {'kernel_sizes': ((3, 3), (5, 5)), 'n_filters': (16, 32)}],\n 'split0_test_score': array([0.5324 , 0.53432, 0.54192, 0.54856]),\n 'split1_test_score': array([0.54368, 0.5396 , 0.54816, 0.55888]),\n 'mean_test_score': array([0.53804, 0.53696, 0.54504, 0.55372]),\n 'std_test_score': array([0.00564, 0.00264, 0.00312, 0.00516]),\n 'rank_test_score': array([3, 4, 2, 1])}"
          },
          "execution_count": 323,
          "metadata": {},
          "output_type": "execute_result"
        }
      ],
      "source": [
        "# YOUR CODE HERE\n",
        "\n",
        "es = [EarlyStopping(monitor='val_loss', patience=3, mode='min',verbose=1,restore_best_weights=True)]\n",
        "\n",
        "cnn = KerasClassifier(model=create_cnn_model, validation_split=.25, epochs=25, batch_size=128,verbose=0,n_filters=(32,32), kernel_sizes=((5,5),(3,3)),randseed=42)\n",
        "# print(cnn.get_params().keys())\n",
        "param_grid = dict(n_filters=[(16,16),(16,32)],kernel_sizes=[((3,3),(3,3)),((3,3),(5,5))])\n",
        "grid1 = GridSearchCV(estimator=cnn, param_grid=param_grid,cv=2,verbose=2)\n",
        "grid1.fit(X_train,y_train,callbacks=es)\n",
        "grid1.cv_results_"
      ],
      "metadata": {
        "collapsed": false,
        "pycharm": {
          "name": "#%%\n"
        }
      }
    },
    {
      "cell_type": "markdown",
      "source": [],
      "metadata": {
        "collapsed": false,
        "pycharm": {
          "name": "#%% md\n"
        }
      }
    },
    {
      "cell_type": "code",
      "execution_count": 310,
      "outputs": [
        {
          "name": "stdout",
          "output_type": "stream",
          "text": [
            "{'kernel_sizes': ((3, 3), (5, 5)), 'n_filters': (16, 32)}\n"
          ]
        }
      ],
      "source": [
        "print(grid1.best_params_)"
      ],
      "metadata": {
        "collapsed": false,
        "pycharm": {
          "name": "#%%\n"
        }
      }
    },
    {
      "cell_type": "code",
      "execution_count": 311,
      "outputs": [
        {
          "name": "stdout",
          "output_type": "stream",
          "text": [
            "0.55372\n"
          ]
        }
      ],
      "source": [
        "print(grid1.best_score_)"
      ],
      "metadata": {
        "collapsed": false,
        "pycharm": {
          "name": "#%%\n"
        }
      }
    },
    {
      "cell_type": "code",
      "execution_count": 326,
      "outputs": [
        {
          "name": "stdout",
          "output_type": "stream",
          "text": [
            "KerasClassifier(\n",
            "\tmodel=<function create_cnn_model at 0x0000025A408CD1F0>\n",
            "\tbuild_fn=None\n",
            "\twarm_start=False\n",
            "\trandom_state=None\n",
            "\toptimizer=rmsprop\n",
            "\tloss=None\n",
            "\tmetrics=None\n",
            "\tbatch_size=128\n",
            "\tvalidation_batch_size=None\n",
            "\tverbose=0\n",
            "\tcallbacks=None\n",
            "\tvalidation_split=0.25\n",
            "\tshuffle=True\n",
            "\trun_eagerly=False\n",
            "\tepochs=25\n",
            "\tn_filters=(16, 32)\n",
            "\tkernel_sizes=((3, 3), (5, 5))\n",
            "\trandseed=42\n",
            "\tclass_weight=None\n",
            ")\n"
          ]
        }
      ],
      "source": [
        "print(grid1.best_estimator_)"
      ],
      "metadata": {
        "collapsed": false,
        "pycharm": {
          "name": "#%%\n"
        }
      }
    },
    {
      "cell_type": "markdown",
      "source": [
        "**Task 1.2**\n",
        "\n",
        "Compute the final score on the test set using the *best_estimator* from the gridsearch and the `score()` method!"
      ],
      "metadata": {
        "collapsed": false,
        "pycharm": {
          "name": "#%% md\n"
        }
      }
    },
    {
      "cell_type": "code",
      "execution_count": 327,
      "outputs": [
        {
          "name": "stdout",
          "output_type": "stream",
          "text": [
            "0.60892\n"
          ]
        }
      ],
      "source": [
        "# YOUR CODE HERE\n",
        "model.fit = grid1.best_estimator_\n",
        "final_score1 = grid1.score(X_test,y_test)\n",
        "# cnn = model\n",
        "score = model.evaluate(X_test,y_test,verbose=0)\n",
        "# score = cnn.evaluate(x_train.values,y_test,verbose=0)\n",
        "print(final_score1)"
      ],
      "metadata": {
        "collapsed": false,
        "pycharm": {
          "name": "#%%\n"
        }
      }
    },
    {
      "cell_type": "code",
      "execution_count": 328,
      "id": "eefc5375",
      "metadata": {
        "deletable": false,
        "editable": false,
        "nbgrader": {
          "cell_type": "code",
          "checksum": "476d32c68845312c0ced66a13c2bbc21",
          "grade": true,
          "grade_id": "task-1-2-test",
          "locked": true,
          "points": 1,
          "schema_version": 3,
          "solution": false,
          "task": false
        },
        "pycharm": {
          "name": "#%%\n"
        }
      },
      "outputs": [
        {
          "name": "stdout",
          "output_type": "stream",
          "text": [
            "[2.3005757331848145, 0.0835999995470047]\n"
          ]
        }
      ],
      "source": [
        "print(score)"
      ]
    },
    {
      "cell_type": "markdown",
      "id": "56a0ed04",
      "metadata": {
        "deletable": false,
        "editable": false,
        "nbgrader": {
          "cell_type": "markdown",
          "checksum": "670004b8d09cf7342e20ed602304b95c",
          "grade": false,
          "grade_id": "task-1-3-descriptor",
          "locked": true,
          "schema_version": 3,
          "solution": false,
          "task": false
        },
        "pycharm": {
          "name": "#%% md\n"
        }
      },
      "source": [
        "**Task 1.3**\n",
        "\n",
        "Now we will focus on another \"parameter\" of the model. You do not have to repeat the definition of the `EarlyStopping()` and the `KerasClassifier`, we will just re-use and re-tune it. Create a **new** parameter grid called `param_grid2` which contains only the `randseed`. Set the values to run the gridsearch to 3,17 and 42!\n",
        "\n",
        "Finally use the provided code to run the grid search. This can take a few minutes."
      ]
    },
    {
      "cell_type": "code",
      "execution_count": 329,
      "id": "d1da91a6",
      "metadata": {
        "deletable": false,
        "nbgrader": {
          "cell_type": "code",
          "checksum": "d25db92921418e75f4678d60ecfb0fd9",
          "grade": false,
          "grade_id": "task-1-3-solution",
          "locked": false,
          "schema_version": 3,
          "solution": true,
          "task": false
        },
        "pycharm": {
          "name": "#%%\n"
        }
      },
      "outputs": [
        {
          "name": "stdout",
          "output_type": "stream",
          "text": [
            "Fitting 2 folds for each of 2 candidates, totalling 4 fits\n",
            "[CV] END .......................................randseed=317; total time= 1.6min\n",
            "[CV] END .......................................randseed=317; total time= 1.6min\n",
            "[CV] END ........................................randseed=42; total time= 1.6min\n",
            "[CV] END ........................................randseed=42; total time= 1.2min\n"
          ]
        },
        {
          "data": {
            "text/plain": "{'mean_fit_time': array([94.24828851, 83.31913686]),\n 'std_fit_time': array([1.52061975, 9.43214893]),\n 'mean_score_time': array([1.36837876, 1.22294474]),\n 'std_score_time': array([0.04294407, 0.14446521]),\n 'param_randseed': masked_array(data=[317, 42],\n              mask=[False, False],\n        fill_value='?',\n             dtype=object),\n 'params': [{'randseed': 317}, {'randseed': 42}],\n 'split0_test_score': array([0.5716 , 0.55888]),\n 'split1_test_score': array([0.58096, 0.5768 ]),\n 'mean_test_score': array([0.57628, 0.56784]),\n 'std_test_score': array([0.00468, 0.00896]),\n 'rank_test_score': array([1, 2])}"
          },
          "execution_count": 329,
          "metadata": {},
          "output_type": "execute_result"
        }
      ],
      "source": [
        "# YOUR CODE HERE\n",
        "param_grid2 = dict(randseed=[317,42])\n",
        "grid2 = GridSearchCV(estimator=cnn, param_grid=param_grid2,cv=2,verbose=2)\n",
        "grid2.fit(X_train,y_train,callbacks=es)\n",
        "grid2.cv_results_"
      ]
    },
    {
      "cell_type": "code",
      "execution_count": 330,
      "id": "5f1106f3",
      "metadata": {
        "deletable": false,
        "editable": false,
        "nbgrader": {
          "cell_type": "code",
          "checksum": "00e1d8cfc9a109e1ca516cf53391b0d2",
          "grade": true,
          "grade_id": "task-1-3-test",
          "locked": true,
          "points": 1,
          "schema_version": 3,
          "solution": false,
          "task": false
        },
        "pycharm": {
          "name": "#%%\n"
        }
      },
      "outputs": [
        {
          "name": "stdout",
          "output_type": "stream",
          "text": [
            "{'randseed': 317}\n"
          ]
        }
      ],
      "source": [
        "print(grid2.best_params_)"
      ]
    },
    {
      "cell_type": "markdown",
      "id": "e6c449fc",
      "metadata": {
        "deletable": false,
        "editable": false,
        "nbgrader": {
          "cell_type": "markdown",
          "checksum": "b27335e1f2b61b4707c58e0c16c44931",
          "grade": false,
          "grade_id": "task-1-4-descriptor",
          "locked": true,
          "schema_version": 3,
          "solution": false,
          "task": false
        },
        "pycharm": {
          "name": "#%% md\n"
        }
      },
      "source": [
        "**Task 1.4**\n",
        "\n",
        "Compute the final score on the test set using the *best_estimator* from the gridsearch and the `score()` method and save it to the variable `final_score2`!"
      ]
    },
    {
      "cell_type": "code",
      "execution_count": 331,
      "id": "114cd86b",
      "metadata": {
        "deletable": false,
        "nbgrader": {
          "cell_type": "code",
          "checksum": "7f27ccaf88b5da209814d7785fba51a9",
          "grade": false,
          "grade_id": "task-1-4-solution",
          "locked": false,
          "schema_version": 3,
          "solution": true,
          "task": false
        },
        "pycharm": {
          "name": "#%%\n"
        }
      },
      "outputs": [
        {
          "name": "stdout",
          "output_type": "stream",
          "text": [
            "0.63256\n"
          ]
        }
      ],
      "source": [
        "# YOUR CODE HERE\n",
        "model.fit = grid2.best_estimator_\n",
        "final_score2 = grid2.score(X_test,y_test)\n",
        "score = model.evaluate(X_test,y_test,verbose=0)\n",
        "print(final_score2)"
      ]
    },
    {
      "cell_type": "code",
      "execution_count": 332,
      "id": "6e4497cc",
      "metadata": {
        "deletable": false,
        "editable": false,
        "nbgrader": {
          "cell_type": "code",
          "checksum": "c605e86ace3b162d5c07622340cb9380",
          "grade": true,
          "grade_id": "task-1-4-test",
          "locked": true,
          "points": 1,
          "schema_version": 3,
          "solution": false,
          "task": false
        },
        "pycharm": {
          "name": "#%%\n"
        }
      },
      "outputs": [
        {
          "name": "stdout",
          "output_type": "stream",
          "text": [
            "[2.3005757331848145, 0.0835999995470047]\n"
          ]
        }
      ],
      "source": [
        "print(score)"
      ]
    },
    {
      "cell_type": "markdown",
      "id": "fd836ce6",
      "metadata": {
        "deletable": false,
        "editable": false,
        "nbgrader": {
          "cell_type": "markdown",
          "checksum": "01d0d33e8da2812ad1911c9fcf101c86",
          "grade": false,
          "grade_id": "task-1-5-descriptor",
          "locked": true,
          "schema_version": 3,
          "solution": false,
          "task": false
        },
        "pycharm": {
          "name": "#%% md\n"
        }
      },
      "source": [
        "**Task 1.5**\n",
        "\n",
        "Which of the following statements is true?\n",
        "\n",
        "'a': The random state/seed is a hyper-parameter and we should find the optimal seed.\n",
        "\n",
        "'b': Tuning the random state/seed is a questionable (reasearch) practice.\n",
        "\n",
        "'c': Repeating experiments instead of using a single random state/seed is a questionable (research) practice.\n",
        "\n",
        "'d': There is no randomness in the CNN defined and used in the tasks above.\n",
        "\n",
        "*Use a variable* `x15` *and assign your answer of the question (if 'e' would be the correct answer your code should look like this:* `x15='e'`. *There is only one correct answer.*"
      ]
    },
    {
      "cell_type": "code",
      "execution_count": null,
      "id": "11be0300",
      "metadata": {
        "deletable": false,
        "nbgrader": {
          "cell_type": "code",
          "checksum": "c111a38ee8a5cdbae543d880823481a0",
          "grade": false,
          "grade_id": "task-1-5-solution",
          "locked": false,
          "schema_version": 3,
          "solution": true,
          "task": false
        },
        "pycharm": {
          "name": "#%%\n"
        }
      },
      "outputs": [],
      "source": [
        "# YOUR CODE HERE\n",
        "x15 = \"c\"\n",
        "print('The answer is ' + x15 + '.')"
      ]
    },
    {
      "cell_type": "code",
      "execution_count": null,
      "id": "bc00fc51",
      "metadata": {
        "deletable": false,
        "editable": false,
        "nbgrader": {
          "cell_type": "code",
          "checksum": "ed6cc8f62b7c0d60f16341e78b823851",
          "grade": true,
          "grade_id": "task-1-5-test",
          "locked": true,
          "points": 1,
          "schema_version": 3,
          "solution": false,
          "task": false
        },
        "pycharm": {
          "name": "#%%\n"
        }
      },
      "outputs": [],
      "source": []
    },
    {
      "cell_type": "markdown",
      "id": "bde283cd",
      "metadata": {
        "deletable": false,
        "editable": false,
        "nbgrader": {
          "cell_type": "markdown",
          "checksum": "a46044aa7971537ea7026ac0a39dd41e",
          "grade": false,
          "grade_id": "task-2-1-descriptor",
          "locked": true,
          "schema_version": 3,
          "solution": false,
          "task": false
        },
        "pycharm": {
          "name": "#%% md\n"
        }
      },
      "source": [
        "In the remaing part of the notebook we will work with a pre-trained model. Due to storage and compute capabilites we will not use famous networks like ResNet50, but the light-weight MobileNetV2.\n",
        "\n",
        "**Task 2.1**\n",
        "\n",
        "\n",
        "Write a function `resize_to_244by244()` to change the shape of an image (represented as a tensorflow-tensor). The *MobileNetV2* requires input images with a size of $224 \\times224$. Since not all images are square, there are several ways to resize a generally rectangular image to a square format. \n",
        "Implement the following methods:\n",
        "1. *Simple resize*, ignoring the aspect ratio: `mode='resize'`\n",
        "2. *Zero-padding*, maintaining the aspect ratio by zero padding: `mode='pad'` \n",
        "3. *Resize and central crop*, resizing maintaining the aspect ratio followed by cropping an square part of a non-square resized image: `mode='crop'`\n",
        "\n",
        "*Hint: You might use tensorflow functions.*\n",
        "[<img src=\"resize_demo.png\" width=\"700\"/>](resize_demo.png)"
      ]
    },
    {
      "cell_type": "code",
      "execution_count": 12,
      "id": "b74bc052",
      "metadata": {
        "deletable": false,
        "nbgrader": {
          "cell_type": "code",
          "checksum": "478d32eba8942262d4dd3e14d12c3d6a",
          "grade": false,
          "grade_id": "task-2-1-solution",
          "locked": false,
          "schema_version": 3,
          "solution": true,
          "task": false
        },
        "pycharm": {
          "name": "#%%\n"
        }
      },
      "outputs": [],
      "source": [
        "def resize_to_244by244(im_tf, mode):\n",
        "    '''\n",
        "    inputs: im_if, type: tensorflow-tensor\n",
        "            mode, type: string\n",
        "    outputs: im_tf, type: tensorflow-tensor        \n",
        "    '''\n",
        "    # YOUR CODE HERE\n",
        "    img_data = tf.image.convert_image_dtype(im_tf, dtype = tf.uint8)\n",
        "    if mode == 'resize':\n",
        "        im_tf = tf.image.resize(img_data,[224, 224])\n",
        "    if mode == 'pad':\n",
        "        im_tf  = tf.image.resize_image_with_crop_or_pad(img_data,224,224)\n",
        "    if mode == 'crop':\n",
        "        im_tf = tf.image.central_crop(img_data,0.6)\n",
        "    retype = tf.cast(im_tf, tf.float32)\n",
        "    im_tf = tf.convert_to_tensor(retype)\n",
        "\n",
        "    return im_tf"
      ]
    },
    {
      "cell_type": "code",
      "execution_count": null,
      "id": "52b43a81",
      "metadata": {
        "deletable": false,
        "editable": false,
        "nbgrader": {
          "cell_type": "code",
          "checksum": "574fb75d01104ca4ed04ae0276695f74",
          "grade": true,
          "grade_id": "task-2-1-test-1",
          "locked": true,
          "points": 1,
          "schema_version": 3,
          "solution": false,
          "task": false
        },
        "pycharm": {
          "name": "#%%\n"
        }
      },
      "outputs": [],
      "source": []
    },
    {
      "cell_type": "code",
      "execution_count": null,
      "id": "5bbf5c68",
      "metadata": {
        "deletable": false,
        "editable": false,
        "nbgrader": {
          "cell_type": "code",
          "checksum": "f5aaa59431cc0bddacf541126e4c1c6e",
          "grade": true,
          "grade_id": "task-2-1-test-2",
          "locked": true,
          "points": 1,
          "schema_version": 3,
          "solution": false,
          "task": false
        },
        "pycharm": {
          "name": "#%%\n"
        }
      },
      "outputs": [],
      "source": []
    },
    {
      "cell_type": "code",
      "execution_count": null,
      "id": "bbf388a4",
      "metadata": {
        "deletable": false,
        "editable": false,
        "nbgrader": {
          "cell_type": "code",
          "checksum": "f16450f221a8cca13a29953b14c450f3",
          "grade": true,
          "grade_id": "task-2-1-test-3",
          "locked": true,
          "points": 1,
          "schema_version": 3,
          "solution": false,
          "task": false
        },
        "pycharm": {
          "name": "#%%\n"
        }
      },
      "outputs": [],
      "source": []
    },
    {
      "cell_type": "code",
      "execution_count": 13,
      "id": "800492cb",
      "metadata": {
        "deletable": false,
        "editable": false,
        "nbgrader": {
          "cell_type": "code",
          "checksum": "71869b101b47ddde7bf7609693b4c52c",
          "grade": false,
          "grade_id": "jpg-loader",
          "locked": true,
          "schema_version": 3,
          "solution": false,
          "task": false
        },
        "pycharm": {
          "name": "#%%\n"
        }
      },
      "outputs": [],
      "source": [
        "def jpg_file_to_mobilenet(filename=None, show=True, mode='resize'):\n",
        "    im_pil = Image.open(filename)\n",
        "    im_tf = img_to_array(im_pil).astype('uint8')  \n",
        "    im_tf = tf.convert_to_tensor(im_tf)\n",
        "    if show:\n",
        "        #print('Original - Shape:', tf.shape(im_tf), ' -- NumpyType:', im_tf.numpy().dtype, ' -- Range: ', im_tf.numpy().min(), im_tf.numpy().max())\n",
        "        f,a = plt.subplots(1,3,figsize=(10,5))\n",
        "        f.suptitle(filename,y=.85)\n",
        "        a[0].imshow(im_tf)\n",
        "        a[0].set_title('Original')\n",
        "    im_tf = resize_to_244by244(im_tf,mode)\n",
        "    if show:\n",
        "        #print('Resize - Shape:', tf.shape(im_tf), ' -- NumpyType:', im_tf.numpy().dtype, ' -- Range: ', im_tf.numpy().min(), im_tf.numpy().max())\n",
        "        a[1].imshow(im_tf/255)\n",
        "        a[1].set_title('Resized')\n",
        "    im_tf = preprocess_input(im_tf)\n",
        "    if show:\n",
        "        #print('MobileNetPreporcessing - Shape:', tf.shape(im_tf), ' -- NumpyType:', im_tf.numpy().dtype, ' -- Range: ', im_tf.numpy().min(), im_tf.numpy().max())\n",
        "        a[2].imshow(im_tf*0.5 + 0.5)\n",
        "        a[2].set_title('MobileNetPreporcessing')\n",
        "        f.tight_layout()\n",
        "    im_tf = im_tf[None, ...]\n",
        "    return im_tf"
      ]
    },
    {
      "cell_type": "markdown",
      "id": "18a56182",
      "metadata": {
        "deletable": false,
        "editable": false,
        "nbgrader": {
          "cell_type": "markdown",
          "checksum": "6ef3b4c1402119c1b0702f4e1c4ab58b",
          "grade": false,
          "grade_id": "task-2-2-descriptor",
          "locked": true,
          "schema_version": 3,
          "solution": false,
          "task": false
        },
        "pycharm": {
          "name": "#%% md\n"
        }
      },
      "source": [
        "Keras/Tensorflow serves some prominent CNN-architectures for image recognition, like *ResNet*, *VGG* and many more. Due to its small footprint we will be using the *MobileNet v2*.\n",
        "\n",
        "**Task 2.2**\n",
        "\n",
        "\n",
        "Set up a `MobileNetV2()`-Keras model `mnv2`, pre-trained on the *ImageNet* dataset. "
      ]
    },
    {
      "cell_type": "code",
      "execution_count": 35,
      "id": "3c2775a8",
      "metadata": {
        "deletable": false,
        "nbgrader": {
          "cell_type": "code",
          "checksum": "5c28cf20d542e4d1f728d99ab72a731d",
          "grade": false,
          "grade_id": "task-2-2-solution",
          "locked": false,
          "schema_version": 3,
          "solution": true,
          "task": false
        },
        "pycharm": {
          "name": "#%%\n"
        }
      },
      "outputs": [],
      "source": [
        "# YOUR CODE HERE\n",
        "def MobileNetv2(input_shape):\n",
        "    base_model=MobileNetV2(include_top=False, weights='imagenet', input_shape=input_shape)\n",
        "    inputs=tf.keras.layers.Input(shape=input_shape)\n",
        "    x=base_model(inputs)\n",
        "    x=tf.keras.layers.AveragePooling2D()(x)\n",
        "    x=tf.keras.layers.Dense(1024,activation='relu')(x)\n",
        "    outputs=tf.keras.layers.Dense(8,activation='softmax')(x)\n",
        "    model=tf.keras.models.Model(inputs=inputs,outputs=outputs)\n",
        "\n",
        "    plot_model(model,to_file='model.png',show_layer_names=True,show_shapes=True)\n",
        "\n",
        "    return model\n",
        "mnv2 = MobileNetv2((224, 224, 3))"
      ]
    },
    {
      "cell_type": "code",
      "execution_count": null,
      "id": "3bc06586",
      "metadata": {
        "deletable": false,
        "editable": false,
        "nbgrader": {
          "cell_type": "code",
          "checksum": "ae1783a8282068e402a8440d418c4171",
          "grade": true,
          "grade_id": "task-2-2-test-1",
          "locked": true,
          "points": 1,
          "schema_version": 3,
          "solution": false,
          "task": false
        },
        "pycharm": {
          "name": "#%%\n"
        }
      },
      "outputs": [],
      "source": []
    },
    {
      "cell_type": "code",
      "execution_count": null,
      "id": "76ed1f04",
      "metadata": {
        "deletable": false,
        "editable": false,
        "nbgrader": {
          "cell_type": "code",
          "checksum": "69e2cc0e3325cb562b3cf6a9bf04af8f",
          "grade": true,
          "grade_id": "task-2-2-test-2",
          "locked": true,
          "points": 1,
          "schema_version": 3,
          "solution": false,
          "task": false
        },
        "pycharm": {
          "name": "#%%\n"
        }
      },
      "outputs": [],
      "source": []
    },
    {
      "cell_type": "markdown",
      "id": "0e3164f8",
      "metadata": {
        "deletable": false,
        "editable": false,
        "nbgrader": {
          "cell_type": "markdown",
          "checksum": "dbc4284ac3c9c33ebe11053ffa70a2eb",
          "grade": false,
          "grade_id": "task-2-3-descriptor",
          "locked": true,
          "schema_version": 3,
          "solution": false,
          "task": false
        },
        "pycharm": {
          "name": "#%% md\n"
        }
      },
      "source": [
        "**Task 2.3**\n",
        "\n",
        "Use the function `jpg_file_to_mobilenet()` (making use of your resize function from task 2.1) to load the provided image by providing the filename and the resize mode.\n",
        "Predict the output for this image and print the top-3 softmax-output values and the 3 associated classes using Keras' applications `decode_predictions()` function. Store the output of the function to the variable `out`."
      ]
    },
    {
      "cell_type": "code",
      "execution_count": 40,
      "id": "368eae5d",
      "metadata": {
        "deletable": false,
        "nbgrader": {
          "cell_type": "code",
          "checksum": "0bfb8a86981a41a4450b04c5df8b0a90",
          "grade": false,
          "grade_id": "task-2-3-solution",
          "locked": false,
          "schema_version": 3,
          "solution": true,
          "task": false
        },
        "pycharm": {
          "name": "#%%\n"
        }
      },
      "outputs": [
        {
          "name": "stdout",
          "output_type": "stream",
          "text": []
        },
        {
          "ename": "AttributeError",
          "evalue": "'list' object has no attribute 'shape'",
          "output_type": "error",
          "traceback": []
        },
        {
          "data": {
            "text/plain": "<Figure size 720x360 with 3 Axes>"
          }
        }
      ]
    }
  ]
}